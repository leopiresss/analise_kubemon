{
  "nbformat": 4,
  "nbformat_minor": 0,
  "metadata": {
    "colab": {
      "provenance": []
    },
    "kernelspec": {
      "name": "python3",
      "display_name": "Python 3"
    },
    "accelerator": "GPU",
    "gpuClass": "standard"
  },
  "cells": [
    {
      "cell_type": "markdown",
      "source": [
        "Neste exemplo treinamos e avaliamos um modelo preditivo usando **T-fold-CrossValidation**, ou Validação Cruzada com T Pastas\n",
        "\n",
        "- técnica de aprendizagem usada: MLP (MultiLayer Perceptron)\n",
        "- tarefa supervisionada: classificação de vinhos\n",
        "- métricas de avaliação: taxa de acerto, precisão, revocação, f1 e matriz de confusão\n",
        "\n",
        "Importando os recursos necessários:\n",
        "- numpy: biblioteca numérica\n",
        "- sklearn: biblioteca de machine learning, as métricas de avaliação e o model_selection que nos permite executar validação cruzada"
      ],
      "metadata": {
        "id": "XxjDrcRJYyA2"
      }
    },
    {
      "cell_type": "markdown",
      "source": [],
      "metadata": {
        "id": "49-l_ZQxiK_K"
      }
    },
    {
      "cell_type": "code",
      "metadata": {
        "id": "SmS-tOd6u9fO"
      },
      "source": [
        "# Importa bibliotecas necessárias \n",
        "import numpy as np\n",
        "from sklearn.neural_network import MLPClassifier\n",
        "from sklearn import model_selection\n",
        "from sklearn.metrics import confusion_matrix, precision_score, recall_score, f1_score\n",
        "from sklearn.datasets import load_wine"
      ],
      "execution_count": null,
      "outputs": []
    },
    {
      "cell_type": "markdown",
      "source": [
        "Carregando a base de dados do problema, representada aqui por X e y, onde:\n",
        "- X: array contendo N instâncias com M atributos (atributos de entrada do problema)\n",
        "- y: array contendo o rótulo (atributo alvo) de cada instância em X\n"
      ],
      "metadata": {
        "id": "LuQLGeQNWpME"
      }
    },
    {
      "cell_type": "code",
      "source": [
        "# Neste exemplo a base de dados wine é composta por 178 instâncias (N=178) \n",
        "# e cada instância é representada por um vetor de 13 atributos (M=13)\n",
        "\n",
        "X, y = load_wine(return_X_y=True)\n",
        "print(\"Formato de X: \", X.shape)\n",
        "print(\"Formato de y: \", y.shape)\n",
        "\n"
      ],
      "metadata": {
        "colab": {
          "base_uri": "https://localhost:8080/"
        },
        "id": "ypO-BKeSWlhU",
        "outputId": "09f2a412-5b6c-4f09-ca82-a7419337b2d9"
      },
      "execution_count": null,
      "outputs": [
        {
          "output_type": "stream",
          "name": "stdout",
          "text": [
            "Formato de X:  (178, 13)\n",
            "Formato de y:  (178,)\n"
          ]
        }
      ]
    },
    {
      "cell_type": "code",
      "source": [
        "# Usando o GridSearch para buscar os melhores parâmetros para nosso modelo\n",
        "from sklearn.model_selection import train_test_split, GridSearchCV\n",
        "\n",
        "# Separando da base original uma base de validação\n",
        "X, X_val, y, y_val = train_test_split(X,y, test_size=0.2, random_state=42, stratify=y)\n",
        "\n",
        "# Definindo a técnica a ser utilizada\n",
        "clf = MLPClassifier()\n",
        "\n",
        "# parâmetros que o Gridsearch utilizará em sua busca\n",
        "parameters = [{'hidden_layer_sizes':[8, (8,6), 6], \n",
        "               'activation': ['relu', 'tanh', 'logistic'], \n",
        "               'random_state': [10, 46],\n",
        "               'max_iter':[50, 100, 300],\n",
        "               'learning_rate_init': [0.01, 0.001]}]\n",
        "\n",
        "# Execução do Gridsearch \n",
        "gs=GridSearchCV(clf, parameters, scoring='accuracy', cv=3, n_jobs=-1)\n",
        "gs.fit(X_val, y_val)\n",
        "\n",
        "# Mostrando a tabela de resultados do GridSearch (opcional)\n",
        "from tabulate import tabulate\n",
        "import pandas as pd\n",
        "df=gs.cv_results_\n",
        "print(tabulate(df, headers='keys', tablefmt='psql'))\n",
        "print(\"Melhores parâmetros encontrados: \", gs.best_params_)\n",
        "\n",
        "# Recuperando os melhores resultados\n",
        "clf=gs.best_estimator_\n"
      ],
      "metadata": {
        "id": "1y1XJefTgljA",
        "colab": {
          "base_uri": "https://localhost:8080/"
        },
        "outputId": "a4589e32-63b2-40ac-8f19-f618b99ac862"
      },
      "execution_count": null,
      "outputs": [
        {
          "output_type": "stream",
          "name": "stderr",
          "text": [
            "/usr/local/lib/python3.9/dist-packages/sklearn/neural_network/_multilayer_perceptron.py:686: ConvergenceWarning: Stochastic Optimizer: Maximum iterations (300) reached and the optimization hasn't converged yet.\n",
            "  warnings.warn(\n"
          ]
        },
        {
          "output_type": "stream",
          "name": "stdout",
          "text": [
            "+-----------------+----------------+-------------------+------------------+--------------------+----------------------------+----------------------------+------------------+----------------------+----------------------------------------------------------------------------------------------------------------------------+---------------------+---------------------+---------------------+-------------------+------------------+-------------------+\n",
            "|   mean_fit_time |   std_fit_time |   mean_score_time |   std_score_time | param_activation   | param_hidden_layer_sizes   |   param_learning_rate_init |   param_max_iter |   param_random_state | params                                                                                                                     |   split0_test_score |   split1_test_score |   split2_test_score |   mean_test_score |   std_test_score |   rank_test_score |\n",
            "|-----------------+----------------+-------------------+------------------+--------------------+----------------------------+----------------------------+------------------+----------------------+----------------------------------------------------------------------------------------------------------------------------+---------------------+---------------------+---------------------+-------------------+------------------+-------------------|\n",
            "|      0.0332379  |    0.0104072   |       0.00125249  |      0.000377752 | relu               | 8                          |                      0.01  |               50 |                   10 | {'activation': 'relu', 'hidden_layer_sizes': 8, 'learning_rate_init': 0.01, 'max_iter': 50, 'random_state': 10}            |            0.666667 |            0.583333 |            0.666667 |          0.638889 |        0.0392837 |                48 |\n",
            "|      0.0130224  |    0.00026068  |       0.00092721  |      1.54893e-05 | relu               | 8                          |                      0.01  |               50 |                   46 | {'activation': 'relu', 'hidden_layer_sizes': 8, 'learning_rate_init': 0.01, 'max_iter': 50, 'random_state': 46}            |            0.5      |            0.666667 |            0.5      |          0.555556 |        0.0785674 |                61 |\n",
            "|      0.0247774  |    0.00382859  |       0.000986576 |      0.000237227 | relu               | 8                          |                      0.01  |              100 |                   10 | {'activation': 'relu', 'hidden_layer_sizes': 8, 'learning_rate_init': 0.01, 'max_iter': 100, 'random_state': 10}           |            0.666667 |            0.583333 |            0.666667 |          0.638889 |        0.0392837 |                48 |\n",
            "|      0.0197771  |    0.00503132  |       0.001249    |      0.000326307 | relu               | 8                          |                      0.01  |              100 |                   46 | {'activation': 'relu', 'hidden_layer_sizes': 8, 'learning_rate_init': 0.01, 'max_iter': 100, 'random_state': 46}           |            0.5      |            0.666667 |            0.5      |          0.555556 |        0.0785674 |                61 |\n",
            "|      0.0310635  |    0.0162365   |       0.00121665  |      0.000364926 | relu               | 8                          |                      0.01  |              300 |                   10 | {'activation': 'relu', 'hidden_layer_sizes': 8, 'learning_rate_init': 0.01, 'max_iter': 300, 'random_state': 10}           |            0.666667 |            0.583333 |            0.666667 |          0.638889 |        0.0392837 |                48 |\n",
            "|      0.0263317  |    0.0105781   |       0.00109728  |      0.000285729 | relu               | 8                          |                      0.01  |              300 |                   46 | {'activation': 'relu', 'hidden_layer_sizes': 8, 'learning_rate_init': 0.01, 'max_iter': 300, 'random_state': 46}           |            0.5      |            0.666667 |            0.5      |          0.555556 |        0.0785674 |                61 |\n",
            "|      0.0451306  |    0.0220654   |       0.00162292  |      0.00101038  | relu               | 8                          |                      0.001 |               50 |                   10 | {'activation': 'relu', 'hidden_layer_sizes': 8, 'learning_rate_init': 0.001, 'max_iter': 50, 'random_state': 10}           |            0.666667 |            0.666667 |            0.666667 |          0.666667 |        0         |                34 |\n",
            "|      0.0119742  |    0.00200375  |       0.00246485  |      0.00235806  | relu               | 8                          |                      0.001 |               50 |                   46 | {'activation': 'relu', 'hidden_layer_sizes': 8, 'learning_rate_init': 0.001, 'max_iter': 50, 'random_state': 46}           |            0.333333 |            0.333333 |            0.333333 |          0.333333 |        0         |                92 |\n",
            "|      0.0407693  |    0.0105832   |       0.00121363  |      0.000245287 | relu               | 8                          |                      0.001 |              100 |                   10 | {'activation': 'relu', 'hidden_layer_sizes': 8, 'learning_rate_init': 0.001, 'max_iter': 100, 'random_state': 10}          |            0.666667 |            0.666667 |            0.666667 |          0.666667 |        0         |                34 |\n",
            "|      0.0156031  |    0.00164292  |       0.00176533  |      0.000760197 | relu               | 8                          |                      0.001 |              100 |                   46 | {'activation': 'relu', 'hidden_layer_sizes': 8, 'learning_rate_init': 0.001, 'max_iter': 100, 'random_state': 46}          |            0.333333 |            0.333333 |            0.333333 |          0.333333 |        0         |                92 |\n",
            "|      0.0310809  |    0.00188121  |       0.000876824 |      9.21177e-05 | relu               | 8                          |                      0.001 |              300 |                   10 | {'activation': 'relu', 'hidden_layer_sizes': 8, 'learning_rate_init': 0.001, 'max_iter': 300, 'random_state': 10}          |            0.666667 |            0.666667 |            0.666667 |          0.666667 |        0         |                34 |\n",
            "|      0.0107337  |    0.00219442  |       0.000901222 |      0.000131348 | relu               | 8                          |                      0.001 |              300 |                   46 | {'activation': 'relu', 'hidden_layer_sizes': 8, 'learning_rate_init': 0.001, 'max_iter': 300, 'random_state': 46}          |            0.333333 |            0.333333 |            0.333333 |          0.333333 |        0         |                92 |\n",
            "|      0.0269415  |    0.00986383  |       0.00184266  |      0.00138612  | relu               | (8, 6)                     |                      0.01  |               50 |                   10 | {'activation': 'relu', 'hidden_layer_sizes': (8, 6), 'learning_rate_init': 0.01, 'max_iter': 50, 'random_state': 10}       |            0.416667 |            0.333333 |            0.333333 |          0.361111 |        0.0392837 |                89 |\n",
            "|      0.0675052  |    0.0064288   |       0.00418282  |      0.00465666  | relu               | (8, 6)                     |                      0.01  |               50 |                   46 | {'activation': 'relu', 'hidden_layer_sizes': (8, 6), 'learning_rate_init': 0.01, 'max_iter': 50, 'random_state': 46}       |            0.75     |            0.5      |            0.75     |          0.666667 |        0.117851  |                34 |\n",
            "|      0.0339676  |    0.00325336  |       0.00430353  |      0.00174111  | relu               | (8, 6)                     |                      0.01  |              100 |                   10 | {'activation': 'relu', 'hidden_layer_sizes': (8, 6), 'learning_rate_init': 0.01, 'max_iter': 100, 'random_state': 10}      |            0.416667 |            0.333333 |            0.333333 |          0.361111 |        0.0392837 |                89 |\n",
            "|      0.118658   |    0.0523073   |       0.000955264 |      8.32661e-05 | relu               | (8, 6)                     |                      0.01  |              100 |                   46 | {'activation': 'relu', 'hidden_layer_sizes': (8, 6), 'learning_rate_init': 0.01, 'max_iter': 100, 'random_state': 46}      |            0.833333 |            0.583333 |            0.916667 |          0.777778 |        0.141639  |                10 |\n",
            "|      0.0433366  |    0.00776155  |       0.00164755  |      0.000498558 | relu               | (8, 6)                     |                      0.01  |              300 |                   10 | {'activation': 'relu', 'hidden_layer_sizes': (8, 6), 'learning_rate_init': 0.01, 'max_iter': 300, 'random_state': 10}      |            0.416667 |            0.333333 |            0.333333 |          0.361111 |        0.0392837 |                89 |\n",
            "|      0.232328   |    0.00529416  |       0.00125392  |      0.000256362 | relu               | (8, 6)                     |                      0.01  |              300 |                   46 | {'activation': 'relu', 'hidden_layer_sizes': (8, 6), 'learning_rate_init': 0.01, 'max_iter': 300, 'random_state': 46}      |            0.666667 |            0.916667 |            0.916667 |          0.833333 |        0.117851  |                 3 |\n",
            "|      0.00967654 |    0.000385014 |       0.000828505 |      0.000106805 | relu               | (8, 6)                     |                      0.001 |               50 |                   10 | {'activation': 'relu', 'hidden_layer_sizes': (8, 6), 'learning_rate_init': 0.001, 'max_iter': 50, 'random_state': 10}      |            0.333333 |            0.25     |            0.25     |          0.277778 |        0.0392837 |               103 |\n",
            "|      0.0644248  |    0.0223214   |       0.000884136 |      2.3572e-05  | relu               | (8, 6)                     |                      0.001 |               50 |                   46 | {'activation': 'relu', 'hidden_layer_sizes': (8, 6), 'learning_rate_init': 0.001, 'max_iter': 50, 'random_state': 46}      |            0.333333 |            0.5      |            0.333333 |          0.388889 |        0.0785674 |                88 |\n",
            "|      0.0172751  |    0.00596756  |       0.00187008  |      0.0014592   | relu               | (8, 6)                     |                      0.001 |              100 |                   10 | {'activation': 'relu', 'hidden_layer_sizes': (8, 6), 'learning_rate_init': 0.001, 'max_iter': 100, 'random_state': 10}     |            0.333333 |            0.25     |            0.25     |          0.277778 |        0.0392837 |               103 |\n",
            "|      0.179445   |    0.0239182   |       0.00143766  |      0.000486844 | relu               | (8, 6)                     |                      0.001 |              100 |                   46 | {'activation': 'relu', 'hidden_layer_sizes': (8, 6), 'learning_rate_init': 0.001, 'max_iter': 100, 'random_state': 46}     |            0.416667 |            0.583333 |            0.5      |          0.5      |        0.0680414 |                68 |\n",
            "|      0.0102805  |    0.000241108 |       0.000796874 |      3.607e-05   | relu               | (8, 6)                     |                      0.001 |              300 |                   10 | {'activation': 'relu', 'hidden_layer_sizes': (8, 6), 'learning_rate_init': 0.001, 'max_iter': 300, 'random_state': 10}     |            0.333333 |            0.25     |            0.25     |          0.277778 |        0.0392837 |               103 |\n",
            "|      0.401979   |    0.144671    |       0.00204349  |      0.00133674  | relu               | (8, 6)                     |                      0.001 |              300 |                   46 | {'activation': 'relu', 'hidden_layer_sizes': (8, 6), 'learning_rate_init': 0.001, 'max_iter': 300, 'random_state': 46}     |            0.666667 |            0.833333 |            0.75     |          0.75     |        0.0680414 |                15 |\n",
            "|      0.0192978  |    0.00342664  |       0.000910521 |      9.33024e-05 | relu               | 6                          |                      0.01  |               50 |                   10 | {'activation': 'relu', 'hidden_layer_sizes': 6, 'learning_rate_init': 0.01, 'max_iter': 50, 'random_state': 10}            |            0.583333 |            0.666667 |            0.666667 |          0.638889 |        0.0392837 |                48 |\n",
            "|      0.0290206  |    0.0141222   |       0.0030125   |      0.00323969  | relu               | 6                          |                      0.01  |               50 |                   46 | {'activation': 'relu', 'hidden_layer_sizes': 6, 'learning_rate_init': 0.01, 'max_iter': 50, 'random_state': 46}            |            0.666667 |            0.666667 |            0.666667 |          0.666667 |        0         |                34 |\n",
            "|      0.0745059  |    0.00672649  |       0.00407306  |      0.00028004  | relu               | 6                          |                      0.01  |              100 |                   10 | {'activation': 'relu', 'hidden_layer_sizes': 6, 'learning_rate_init': 0.01, 'max_iter': 100, 'random_state': 10}           |            0.583333 |            0.666667 |            0.666667 |          0.638889 |        0.0392837 |                48 |\n",
            "|      0.0413678  |    0.0335091   |       0.00094684  |      0.000236147 | relu               | 6                          |                      0.01  |              100 |                   46 | {'activation': 'relu', 'hidden_layer_sizes': 6, 'learning_rate_init': 0.01, 'max_iter': 100, 'random_state': 46}           |            0.666667 |            0.666667 |            0.666667 |          0.666667 |        0         |                34 |\n",
            "|      0.019172   |    0.00149694  |       0.00253065  |      0.0016975   | relu               | 6                          |                      0.01  |              300 |                   10 | {'activation': 'relu', 'hidden_layer_sizes': 6, 'learning_rate_init': 0.01, 'max_iter': 300, 'random_state': 10}           |            0.583333 |            0.666667 |            0.666667 |          0.638889 |        0.0392837 |                48 |\n",
            "|      0.0198233  |    0.000845857 |       0.000824451 |      8.07595e-05 | relu               | 6                          |                      0.01  |              300 |                   46 | {'activation': 'relu', 'hidden_layer_sizes': 6, 'learning_rate_init': 0.01, 'max_iter': 300, 'random_state': 46}           |            0.666667 |            0.666667 |            0.666667 |          0.666667 |        0         |                34 |\n",
            "|      0.00876045 |    0.000591929 |       0.000775258 |      3.77958e-05 | relu               | 6                          |                      0.001 |               50 |                   10 | {'activation': 'relu', 'hidden_layer_sizes': 6, 'learning_rate_init': 0.001, 'max_iter': 50, 'random_state': 10}           |            0.333333 |            0.333333 |            0.333333 |          0.333333 |        0         |                92 |\n",
            "|      0.008744   |    0.000317919 |       0.00077494  |      3.50793e-05 | relu               | 6                          |                      0.001 |               50 |                   46 | {'activation': 'relu', 'hidden_layer_sizes': 6, 'learning_rate_init': 0.001, 'max_iter': 50, 'random_state': 46}           |            0.333333 |            0.416667 |            0.416667 |          0.388889 |        0.0392837 |                73 |\n",
            "|      0.00841721 |    0.000427327 |       0.000764529 |      7.42143e-05 | relu               | 6                          |                      0.001 |              100 |                   10 | {'activation': 'relu', 'hidden_layer_sizes': 6, 'learning_rate_init': 0.001, 'max_iter': 100, 'random_state': 10}          |            0.333333 |            0.333333 |            0.333333 |          0.333333 |        0         |                92 |\n",
            "|      0.00797455 |    0.000241334 |       0.000805219 |      8.45032e-05 | relu               | 6                          |                      0.001 |              100 |                   46 | {'activation': 'relu', 'hidden_layer_sizes': 6, 'learning_rate_init': 0.001, 'max_iter': 100, 'random_state': 46}          |            0.333333 |            0.416667 |            0.416667 |          0.388889 |        0.0392837 |                73 |\n",
            "|      0.012815   |    0.0060778   |       0.000785192 |      7.07993e-05 | relu               | 6                          |                      0.001 |              300 |                   10 | {'activation': 'relu', 'hidden_layer_sizes': 6, 'learning_rate_init': 0.001, 'max_iter': 300, 'random_state': 10}          |            0.333333 |            0.333333 |            0.333333 |          0.333333 |        0         |                92 |\n",
            "|      0.0081172  |    0.000425471 |       0.000743071 |      5.9302e-05  | relu               | 6                          |                      0.001 |              300 |                   46 | {'activation': 'relu', 'hidden_layer_sizes': 6, 'learning_rate_init': 0.001, 'max_iter': 300, 'random_state': 46}          |            0.333333 |            0.416667 |            0.416667 |          0.388889 |        0.0392837 |                73 |\n",
            "|      0.0602175  |    0.00289986  |       0.00112899  |      0.000407542 | tanh               | 8                          |                      0.01  |               50 |                   10 | {'activation': 'tanh', 'hidden_layer_sizes': 8, 'learning_rate_init': 0.01, 'max_iter': 50, 'random_state': 10}            |            0.583333 |            0.833333 |            0.75     |          0.722222 |        0.103935  |                21 |\n",
            "|      0.0294279  |    0.00212231  |       0.000878811 |      4.71868e-05 | tanh               | 8                          |                      0.01  |               50 |                   46 | {'activation': 'tanh', 'hidden_layer_sizes': 8, 'learning_rate_init': 0.01, 'max_iter': 50, 'random_state': 46}            |            0.666667 |            0.833333 |            0.75     |          0.75     |        0.0680414 |                15 |\n",
            "|      0.131038   |    0.0504918   |       0.00138871  |      0.000745045 | tanh               | 8                          |                      0.01  |              100 |                   10 | {'activation': 'tanh', 'hidden_layer_sizes': 8, 'learning_rate_init': 0.01, 'max_iter': 100, 'random_state': 10}           |            0.666667 |            0.75     |            0.75     |          0.722222 |        0.0392837 |                23 |\n",
            "|      0.098013   |    0.0298702   |       0.00140929  |      0.000749089 | tanh               | 8                          |                      0.01  |              100 |                   46 | {'activation': 'tanh', 'hidden_layer_sizes': 8, 'learning_rate_init': 0.01, 'max_iter': 100, 'random_state': 46}           |            0.666667 |            0.833333 |            0.75     |          0.75     |        0.0680414 |                15 |\n",
            "|      0.132892   |    0.0440951   |       0.000985146 |      6.52597e-05 | tanh               | 8                          |                      0.01  |              300 |                   10 | {'activation': 'tanh', 'hidden_layer_sizes': 8, 'learning_rate_init': 0.01, 'max_iter': 300, 'random_state': 10}           |            0.666667 |            0.583333 |            1        |          0.75     |        0.180021  |                15 |\n",
            "|      0.0749666  |    0.054715    |       0.000831286 |      8.9519e-05  | tanh               | 8                          |                      0.01  |              300 |                   46 | {'activation': 'tanh', 'hidden_layer_sizes': 8, 'learning_rate_init': 0.01, 'max_iter': 300, 'random_state': 46}           |            0.666667 |            0.75     |            0.75     |          0.722222 |        0.0392837 |                23 |\n",
            "|      0.0315631  |    0.000838175 |       0.00134961  |      0.000803379 | tanh               | 8                          |                      0.001 |               50 |                   10 | {'activation': 'tanh', 'hidden_layer_sizes': 8, 'learning_rate_init': 0.001, 'max_iter': 50, 'random_state': 10}           |            0.583333 |            0.75     |            0.75     |          0.694444 |        0.0785674 |                26 |\n",
            "|      0.0861108  |    0.0137925   |       0.00207853  |      0.000393507 | tanh               | 8                          |                      0.001 |               50 |                   46 | {'activation': 'tanh', 'hidden_layer_sizes': 8, 'learning_rate_init': 0.001, 'max_iter': 50, 'random_state': 46}           |            0.333333 |            0.416667 |            0.416667 |          0.388889 |        0.0392837 |                73 |\n",
            "|      0.175826   |    0.0106868   |       0.00304476  |      0.000436201 | tanh               | 8                          |                      0.001 |              100 |                   10 | {'activation': 'tanh', 'hidden_layer_sizes': 8, 'learning_rate_init': 0.001, 'max_iter': 100, 'random_state': 10}          |            0.583333 |            0.75     |            0.75     |          0.694444 |        0.0785674 |                26 |\n",
            "|      0.099241   |    0.0114743   |       0.00169579  |      0.000319788 | tanh               | 8                          |                      0.001 |              100 |                   46 | {'activation': 'tanh', 'hidden_layer_sizes': 8, 'learning_rate_init': 0.001, 'max_iter': 100, 'random_state': 46}          |            0.333333 |            0.416667 |            0.416667 |          0.388889 |        0.0392837 |                73 |\n",
            "|      0.183284   |    0.00891747  |       0.00116634  |      8.02639e-05 | tanh               | 8                          |                      0.001 |              300 |                   10 | {'activation': 'tanh', 'hidden_layer_sizes': 8, 'learning_rate_init': 0.001, 'max_iter': 300, 'random_state': 10}          |            0.583333 |            0.833333 |            0.75     |          0.722222 |        0.103935  |                21 |\n",
            "|      0.0388366  |    0.007176    |       0.000861963 |      4.6536e-05  | tanh               | 8                          |                      0.001 |              300 |                   46 | {'activation': 'tanh', 'hidden_layer_sizes': 8, 'learning_rate_init': 0.001, 'max_iter': 300, 'random_state': 46}          |            0.333333 |            0.416667 |            0.416667 |          0.388889 |        0.0392837 |                73 |\n",
            "|      0.0236207  |    0.0112738   |       0.000862598 |      8.48464e-05 | tanh               | (8, 6)                     |                      0.01  |               50 |                   10 | {'activation': 'tanh', 'hidden_layer_sizes': (8, 6), 'learning_rate_init': 0.01, 'max_iter': 50, 'random_state': 10}       |            0.583333 |            0.833333 |            0.5      |          0.638889 |        0.141639  |                46 |\n",
            "|      0.03906    |    0.00381419  |       0.000875076 |      0.000109957 | tanh               | (8, 6)                     |                      0.01  |               50 |                   46 | {'activation': 'tanh', 'hidden_layer_sizes': (8, 6), 'learning_rate_init': 0.01, 'max_iter': 50, 'random_state': 46}       |            0.333333 |            0.666667 |            0.75     |          0.583333 |        0.180021  |                56 |\n",
            "|      0.0315702  |    0.0293471   |       0.000831683 |      0.000124155 | tanh               | (8, 6)                     |                      0.01  |              100 |                   10 | {'activation': 'tanh', 'hidden_layer_sizes': (8, 6), 'learning_rate_init': 0.01, 'max_iter': 100, 'random_state': 10}      |            0.583333 |            0.75     |            0.5      |          0.611111 |        0.103935  |                54 |\n",
            "|      0.149239   |    0.0860043   |       0.00297411  |      0.00194466  | tanh               | (8, 6)                     |                      0.01  |              100 |                   46 | {'activation': 'tanh', 'hidden_layer_sizes': (8, 6), 'learning_rate_init': 0.01, 'max_iter': 100, 'random_state': 46}      |            0.333333 |            0.666667 |            0.75     |          0.583333 |        0.180021  |                56 |\n",
            "|      0.101878   |    0.0932416   |       0.00355816  |      0.000295576 | tanh               | (8, 6)                     |                      0.01  |              300 |                   10 | {'activation': 'tanh', 'hidden_layer_sizes': (8, 6), 'learning_rate_init': 0.01, 'max_iter': 300, 'random_state': 10}      |            0.583333 |            0.75     |            0.5      |          0.611111 |        0.103935  |                54 |\n",
            "|      0.195827   |    0.0762181   |       0.00188247  |      0.000635612 | tanh               | (8, 6)                     |                      0.01  |              300 |                   46 | {'activation': 'tanh', 'hidden_layer_sizes': (8, 6), 'learning_rate_init': 0.01, 'max_iter': 300, 'random_state': 46}      |            0.333333 |            0.416667 |            0.583333 |          0.444444 |        0.103935  |                70 |\n",
            "|      0.035976   |    0.00113161  |       0.000909885 |      6.87319e-05 | tanh               | (8, 6)                     |                      0.001 |               50 |                   10 | {'activation': 'tanh', 'hidden_layer_sizes': (8, 6), 'learning_rate_init': 0.001, 'max_iter': 50, 'random_state': 10}      |            0.583333 |            0.75     |            0.583333 |          0.638889 |        0.0785674 |                46 |\n",
            "|      0.0334976  |    0.00152521  |       0.000898361 |      0.000112427 | tanh               | (8, 6)                     |                      0.001 |               50 |                   46 | {'activation': 'tanh', 'hidden_layer_sizes': (8, 6), 'learning_rate_init': 0.001, 'max_iter': 50, 'random_state': 46}      |            0.333333 |            0.333333 |            0.333333 |          0.333333 |        0         |                92 |\n",
            "|      0.0717282  |    0.00292261  |       0.000888268 |      0.000137338 | tanh               | (8, 6)                     |                      0.001 |              100 |                   10 | {'activation': 'tanh', 'hidden_layer_sizes': (8, 6), 'learning_rate_init': 0.001, 'max_iter': 100, 'random_state': 10}     |            0.666667 |            0.833333 |            0.75     |          0.75     |        0.0680414 |                15 |\n",
            "|      0.0665338  |    0.00292659  |       0.000925541 |      7.54024e-05 | tanh               | (8, 6)                     |                      0.001 |              100 |                   46 | {'activation': 'tanh', 'hidden_layer_sizes': (8, 6), 'learning_rate_init': 0.001, 'max_iter': 100, 'random_state': 46}     |            0.333333 |            0.416667 |            0.416667 |          0.388889 |        0.0392837 |                73 |\n",
            "|      0.233942   |    0.0349931   |       0.000958363 |      2.62147e-05 | tanh               | (8, 6)                     |                      0.001 |              300 |                   10 | {'activation': 'tanh', 'hidden_layer_sizes': (8, 6), 'learning_rate_init': 0.001, 'max_iter': 300, 'random_state': 10}     |            0.666667 |            0.916667 |            0.75     |          0.777778 |        0.103935  |                12 |\n",
            "|      0.192791   |    0.0254277   |       0.00434295  |      0.00325379  | tanh               | (8, 6)                     |                      0.001 |              300 |                   46 | {'activation': 'tanh', 'hidden_layer_sizes': (8, 6), 'learning_rate_init': 0.001, 'max_iter': 300, 'random_state': 46}     |            0.416667 |            0.416667 |            0.416667 |          0.416667 |        0         |                72 |\n",
            "|      0.0534011  |    0.0100412   |       0.00323486  |      0.00115381  | tanh               | 6                          |                      0.01  |               50 |                   10 | {'activation': 'tanh', 'hidden_layer_sizes': 6, 'learning_rate_init': 0.01, 'max_iter': 50, 'random_state': 10}            |            0.333333 |            0.333333 |            0.333333 |          0.333333 |        0         |                92 |\n",
            "|      0.0360055  |    0.0125248   |       0.000797749 |      6.42673e-05 | tanh               | 6                          |                      0.01  |               50 |                   46 | {'activation': 'tanh', 'hidden_layer_sizes': 6, 'learning_rate_init': 0.01, 'max_iter': 50, 'random_state': 46}            |            0.75     |            0.583333 |            0.75     |          0.694444 |        0.0785674 |                26 |\n",
            "|      0.0183602  |    0.00070482  |       0.000755548 |      8.32933e-05 | tanh               | 6                          |                      0.01  |              100 |                   10 | {'activation': 'tanh', 'hidden_layer_sizes': 6, 'learning_rate_init': 0.01, 'max_iter': 100, 'random_state': 10}           |            0.333333 |            0.333333 |            0.333333 |          0.333333 |        0         |                92 |\n",
            "|      0.0560368  |    0.00427399  |       0.00080808  |      0.000123143 | tanh               | 6                          |                      0.01  |              100 |                   46 | {'activation': 'tanh', 'hidden_layer_sizes': 6, 'learning_rate_init': 0.01, 'max_iter': 100, 'random_state': 46}           |            0.666667 |            0.75     |            0.75     |          0.722222 |        0.0392837 |                23 |\n",
            "|      0.0195094  |    0.000750739 |       0.000745138 |      3.14257e-05 | tanh               | 6                          |                      0.01  |              300 |                   10 | {'activation': 'tanh', 'hidden_layer_sizes': 6, 'learning_rate_init': 0.01, 'max_iter': 300, 'random_state': 10}           |            0.333333 |            0.333333 |            0.333333 |          0.333333 |        0         |                92 |\n",
            "|      0.141596   |    0.0101506   |       0.000917196 |      3.92819e-05 | tanh               | 6                          |                      0.01  |              300 |                   46 | {'activation': 'tanh', 'hidden_layer_sizes': 6, 'learning_rate_init': 0.01, 'max_iter': 300, 'random_state': 46}           |            0.666667 |            0.666667 |            0.75     |          0.694444 |        0.0392837 |                30 |\n",
            "|      0.0571659  |    0.0091526   |       0.00116515  |      0.000385599 | tanh               | 6                          |                      0.001 |               50 |                   10 | {'activation': 'tanh', 'hidden_layer_sizes': 6, 'learning_rate_init': 0.001, 'max_iter': 50, 'random_state': 10}           |            0.333333 |            0.25     |            0.25     |          0.277778 |        0.0392837 |               103 |\n",
            "|      0.0293556  |    0.00344823  |       0.000936906 |      5.87157e-05 | tanh               | 6                          |                      0.001 |               50 |                   46 | {'activation': 'tanh', 'hidden_layer_sizes': 6, 'learning_rate_init': 0.001, 'max_iter': 50, 'random_state': 46}           |            0.416667 |            0.416667 |            0.5      |          0.444444 |        0.0392837 |                70 |\n",
            "|      0.0524612  |    0.000368909 |       0.000951687 |      3.68413e-05 | tanh               | 6                          |                      0.001 |              100 |                   10 | {'activation': 'tanh', 'hidden_layer_sizes': 6, 'learning_rate_init': 0.001, 'max_iter': 100, 'random_state': 10}          |            0.333333 |            0.25     |            0.25     |          0.277778 |        0.0392837 |               103 |\n",
            "|      0.0531902  |    0.00100946  |       0.000992537 |      5.57964e-05 | tanh               | 6                          |                      0.001 |              100 |                   46 | {'activation': 'tanh', 'hidden_layer_sizes': 6, 'learning_rate_init': 0.001, 'max_iter': 100, 'random_state': 46}          |            0.416667 |            0.666667 |            0.5      |          0.527778 |        0.103935  |                64 |\n",
            "|      0.24289    |    0.0421255   |       0.00273705  |      0.00248868  | tanh               | 6                          |                      0.001 |              300 |                   10 | {'activation': 'tanh', 'hidden_layer_sizes': 6, 'learning_rate_init': 0.001, 'max_iter': 300, 'random_state': 10}          |            0.333333 |            0.416667 |            0.25     |          0.333333 |        0.0680414 |                92 |\n",
            "|      0.286468   |    0.10935     |       0.000901461 |      3.90192e-05 | tanh               | 6                          |                      0.001 |              300 |                   46 | {'activation': 'tanh', 'hidden_layer_sizes': 6, 'learning_rate_init': 0.001, 'max_iter': 300, 'random_state': 46}          |            0.416667 |            0.666667 |            0.5      |          0.527778 |        0.103935  |                64 |\n",
            "|      0.0996304  |    0.0547728   |       0.000873725 |      1.9237e-05  | logistic           | 8                          |                      0.01  |               50 |                   10 | {'activation': 'logistic', 'hidden_layer_sizes': 8, 'learning_rate_init': 0.01, 'max_iter': 50, 'random_state': 10}        |            0.833333 |            0.75     |            0.75     |          0.777778 |        0.0392837 |                10 |\n",
            "|      0.0317613  |    0.00477347  |       0.00082612  |      2.36528e-05 | logistic           | 8                          |                      0.01  |               50 |                   46 | {'activation': 'logistic', 'hidden_layer_sizes': 8, 'learning_rate_init': 0.01, 'max_iter': 50, 'random_state': 46}        |            0.666667 |            0.833333 |            0.75     |          0.75     |        0.0680414 |                15 |\n",
            "|      0.0713616  |    0.0113522   |       0.000947237 |      0.000341301 | logistic           | 8                          |                      0.01  |              100 |                   10 | {'activation': 'logistic', 'hidden_layer_sizes': 8, 'learning_rate_init': 0.01, 'max_iter': 100, 'random_state': 10}       |            0.833333 |            0.833333 |            0.833333 |          0.833333 |        0         |                 3 |\n",
            "|      0.0827276  |    0.0160398   |       0.000795841 |      5.52764e-05 | logistic           | 8                          |                      0.01  |              100 |                   46 | {'activation': 'logistic', 'hidden_layer_sizes': 8, 'learning_rate_init': 0.01, 'max_iter': 100, 'random_state': 46}       |            0.833333 |            0.833333 |            0.75     |          0.805556 |        0.0392837 |                 6 |\n",
            "|      0.206965   |    0.0192717   |       0.00238204  |      0.00197399  | logistic           | 8                          |                      0.01  |              300 |                   10 | {'activation': 'logistic', 'hidden_layer_sizes': 8, 'learning_rate_init': 0.01, 'max_iter': 300, 'random_state': 10}       |            0.833333 |            0.916667 |            0.916667 |          0.888889 |        0.0392837 |                 1 |\n",
            "|      0.388581   |    0.163844    |       0.000964006 |      1.49049e-05 | logistic           | 8                          |                      0.01  |              300 |                   46 | {'activation': 'logistic', 'hidden_layer_sizes': 8, 'learning_rate_init': 0.01, 'max_iter': 300, 'random_state': 46}       |            0.833333 |            0.916667 |            0.916667 |          0.888889 |        0.0392837 |                 1 |\n",
            "|      0.0856432  |    0.00312251  |       0.000892639 |      3.33383e-05 | logistic           | 8                          |                      0.001 |               50 |                   10 | {'activation': 'logistic', 'hidden_layer_sizes': 8, 'learning_rate_init': 0.001, 'max_iter': 50, 'random_state': 10}       |            0.666667 |            0.666667 |            0.666667 |          0.666667 |        0         |                34 |\n",
            "|      0.0688642  |    0.00653289  |       0.00148559  |      0.000966226 | logistic           | 8                          |                      0.001 |               50 |                   46 | {'activation': 'logistic', 'hidden_layer_sizes': 8, 'learning_rate_init': 0.001, 'max_iter': 50, 'random_state': 46}       |            0.333333 |            0.416667 |            0.416667 |          0.388889 |        0.0392837 |                73 |\n",
            "|      0.178216   |    0.0105481   |       0.00279411  |      0.00277398  | logistic           | 8                          |                      0.001 |              100 |                   10 | {'activation': 'logistic', 'hidden_layer_sizes': 8, 'learning_rate_init': 0.001, 'max_iter': 100, 'random_state': 10}      |            0.666667 |            0.666667 |            0.75     |          0.694444 |        0.0392837 |                30 |\n",
            "|      0.149273   |    0.0142352   |       0.000943184 |      4.06521e-05 | logistic           | 8                          |                      0.001 |              100 |                   46 | {'activation': 'logistic', 'hidden_layer_sizes': 8, 'learning_rate_init': 0.001, 'max_iter': 100, 'random_state': 46}      |            0.333333 |            0.5      |            0.75     |          0.527778 |        0.171234  |                64 |\n",
            "|      0.303527   |    0.0878902   |       0.00103339  |      8.8366e-05  | logistic           | 8                          |                      0.001 |              300 |                   10 | {'activation': 'logistic', 'hidden_layer_sizes': 8, 'learning_rate_init': 0.001, 'max_iter': 300, 'random_state': 10}      |            0.666667 |            0.666667 |            0.75     |          0.694444 |        0.0392837 |                30 |\n",
            "|      0.39488    |    0.0973847   |       0.00100732  |      5.52092e-05 | logistic           | 8                          |                      0.001 |              300 |                   46 | {'activation': 'logistic', 'hidden_layer_sizes': 8, 'learning_rate_init': 0.001, 'max_iter': 300, 'random_state': 46}      |            0.666667 |            0.916667 |            0.75     |          0.777778 |        0.103935  |                12 |\n",
            "|      0.104721   |    0.0216881   |       0.00107861  |      3.63294e-05 | logistic           | (8, 6)                     |                      0.01  |               50 |                   10 | {'activation': 'logistic', 'hidden_layer_sizes': (8, 6), 'learning_rate_init': 0.01, 'max_iter': 50, 'random_state': 10}   |            0.583333 |            0.666667 |            0.833333 |          0.694444 |        0.103935  |                26 |\n",
            "|      0.102556   |    0.0375308   |       0.00522534  |      0.00515566  | logistic           | (8, 6)                     |                      0.01  |               50 |                   46 | {'activation': 'logistic', 'hidden_layer_sizes': (8, 6), 'learning_rate_init': 0.01, 'max_iter': 50, 'random_state': 46}   |            0.583333 |            0.666667 |            0.75     |          0.666667 |        0.0680414 |                34 |\n",
            "|      0.154167   |    0.00554534  |       0.00100096  |      7.84834e-05 | logistic           | (8, 6)                     |                      0.01  |              100 |                   10 | {'activation': 'logistic', 'hidden_layer_sizes': (8, 6), 'learning_rate_init': 0.01, 'max_iter': 100, 'random_state': 10}  |            0.75     |            0.833333 |            0.833333 |          0.805556 |        0.0392837 |                 6 |\n",
            "|      0.132234   |    0.00748043  |       0.0032351   |      0.00333205  | logistic           | (8, 6)                     |                      0.01  |              100 |                   46 | {'activation': 'logistic', 'hidden_layer_sizes': (8, 6), 'learning_rate_init': 0.01, 'max_iter': 100, 'random_state': 46}  |            0.583333 |            0.666667 |            0.75     |          0.666667 |        0.0680414 |                34 |\n",
            "|      0.288192   |    0.0605174   |       0.00138148  |      0.000560538 | logistic           | (8, 6)                     |                      0.01  |              300 |                   10 | {'activation': 'logistic', 'hidden_layer_sizes': (8, 6), 'learning_rate_init': 0.01, 'max_iter': 300, 'random_state': 10}  |            0.75     |            0.666667 |            0.916667 |          0.777778 |        0.103935  |                12 |\n",
            "|      0.256025   |    0.0468946   |       0.0011243   |      0.000191726 | logistic           | (8, 6)                     |                      0.01  |              300 |                   46 | {'activation': 'logistic', 'hidden_layer_sizes': (8, 6), 'learning_rate_init': 0.01, 'max_iter': 300, 'random_state': 46}  |            0.833333 |            0.666667 |            0.916667 |          0.805556 |        0.103935  |                 8 |\n",
            "|      0.0708705  |    0.000945231 |       0.000976562 |      0.00015509  | logistic           | (8, 6)                     |                      0.001 |               50 |                   10 | {'activation': 'logistic', 'hidden_layer_sizes': (8, 6), 'learning_rate_init': 0.001, 'max_iter': 50, 'random_state': 10}  |            0.333333 |            0.666667 |            0.416667 |          0.472222 |        0.141639  |                69 |\n",
            "|      0.0804478  |    0.0117672   |       0.00335924  |      0.00273835  | logistic           | (8, 6)                     |                      0.001 |               50 |                   46 | {'activation': 'logistic', 'hidden_layer_sizes': (8, 6), 'learning_rate_init': 0.001, 'max_iter': 50, 'random_state': 46}  |            0.333333 |            0.416667 |            0.416667 |          0.388889 |        0.0392837 |                73 |\n",
            "|      0.0781194  |    0.00627662  |       0.000947396 |      5.56629e-05 | logistic           | (8, 6)                     |                      0.001 |              100 |                   10 | {'activation': 'logistic', 'hidden_layer_sizes': (8, 6), 'learning_rate_init': 0.001, 'max_iter': 100, 'random_state': 10} |            0.333333 |            0.666667 |            0.75     |          0.583333 |        0.180021  |                56 |\n",
            "|      0.0776683  |    0.00983992  |       0.00515978  |      0.00584867  | logistic           | (8, 6)                     |                      0.001 |              100 |                   46 | {'activation': 'logistic', 'hidden_layer_sizes': (8, 6), 'learning_rate_init': 0.001, 'max_iter': 100, 'random_state': 46} |            0.333333 |            0.416667 |            0.416667 |          0.388889 |        0.0392837 |                73 |\n",
            "|      0.359543   |    0.0282045   |       0.00354409  |      0.00340876  | logistic           | (8, 6)                     |                      0.001 |              300 |                   10 | {'activation': 'logistic', 'hidden_layer_sizes': (8, 6), 'learning_rate_init': 0.001, 'max_iter': 300, 'random_state': 10} |            0.583333 |            0.666667 |            0.75     |          0.666667 |        0.0680414 |                34 |\n",
            "|      0.0515022  |    0.0125478   |       0.0011723   |      0.000512277 | logistic           | (8, 6)                     |                      0.001 |              300 |                   46 | {'activation': 'logistic', 'hidden_layer_sizes': (8, 6), 'learning_rate_init': 0.001, 'max_iter': 300, 'random_state': 46} |            0.333333 |            0.416667 |            0.416667 |          0.388889 |        0.0392837 |                73 |\n",
            "|      0.0158432  |    0.00200699  |       0.000723044 |      1.94369e-05 | logistic           | 6                          |                      0.01  |               50 |                   10 | {'activation': 'logistic', 'hidden_layer_sizes': 6, 'learning_rate_init': 0.01, 'max_iter': 50, 'random_state': 10}        |            0.333333 |            0.416667 |            0.416667 |          0.388889 |        0.0392837 |                73 |\n",
            "|      0.0593299  |    0.0128227   |       0.00228906  |      0.00215917  | logistic           | 6                          |                      0.01  |               50 |                   46 | {'activation': 'logistic', 'hidden_layer_sizes': 6, 'learning_rate_init': 0.01, 'max_iter': 50, 'random_state': 46}        |            0.666667 |            0.666667 |            0.75     |          0.694444 |        0.0392837 |                30 |\n",
            "|      0.0325451  |    0.00129709  |       0.00115697  |      0.000591067 | logistic           | 6                          |                      0.01  |              100 |                   10 | {'activation': 'logistic', 'hidden_layer_sizes': 6, 'learning_rate_init': 0.01, 'max_iter': 100, 'random_state': 10}       |            0.333333 |            0.416667 |            0.416667 |          0.388889 |        0.0392837 |                73 |\n",
            "|      0.0862172  |    0.023198    |       0.000899235 |      6.73746e-05 | logistic           | 6                          |                      0.01  |              100 |                   46 | {'activation': 'logistic', 'hidden_layer_sizes': 6, 'learning_rate_init': 0.01, 'max_iter': 100, 'random_state': 46}       |            0.666667 |            0.833333 |            0.916667 |          0.805556 |        0.103935  |                 8 |\n",
            "|      0.0344565  |    0.00685772  |       0.000758568 |      3.35131e-05 | logistic           | 6                          |                      0.01  |              300 |                   10 | {'activation': 'logistic', 'hidden_layer_sizes': 6, 'learning_rate_init': 0.01, 'max_iter': 300, 'random_state': 10}       |            0.333333 |            0.416667 |            0.416667 |          0.388889 |        0.0392837 |                73 |\n",
            "|      0.198989   |    0.0527033   |       0.00282756  |      0.00248217  | logistic           | 6                          |                      0.01  |              300 |                   46 | {'activation': 'logistic', 'hidden_layer_sizes': 6, 'learning_rate_init': 0.01, 'max_iter': 300, 'random_state': 46}       |            0.75     |            0.916667 |            0.833333 |          0.833333 |        0.0680414 |                 3 |\n",
            "|      0.0556386  |    0.00344416  |       0.000939449 |      0.000260639 | logistic           | 6                          |                      0.001 |               50 |                   10 | {'activation': 'logistic', 'hidden_layer_sizes': 6, 'learning_rate_init': 0.001, 'max_iter': 50, 'random_state': 10}       |            0.333333 |            0.25     |            0.25     |          0.277778 |        0.0392837 |               103 |\n",
            "|      0.059423   |    0.00473044  |       0.0057803   |      0.00699882  | logistic           | 6                          |                      0.001 |               50 |                   46 | {'activation': 'logistic', 'hidden_layer_sizes': 6, 'learning_rate_init': 0.001, 'max_iter': 50, 'random_state': 46}       |            0.583333 |            0.666667 |            0.5      |          0.583333 |        0.0680414 |                56 |\n",
            "|      0.0826857  |    0.0169987   |       0.00418925  |      0.00468445  | logistic           | 6                          |                      0.001 |              100 |                   10 | {'activation': 'logistic', 'hidden_layer_sizes': 6, 'learning_rate_init': 0.001, 'max_iter': 100, 'random_state': 10}      |            0.333333 |            0.416667 |            0.416667 |          0.388889 |        0.0392837 |                73 |\n",
            "|      0.098501   |    0.0153551   |       0.0010976   |      0.000259358 | logistic           | 6                          |                      0.001 |              100 |                   46 | {'activation': 'logistic', 'hidden_layer_sizes': 6, 'learning_rate_init': 0.001, 'max_iter': 100, 'random_state': 46}      |            0.583333 |            0.666667 |            0.5      |          0.583333 |        0.0680414 |                56 |\n",
            "|      0.282974   |    0.0593998   |       0.000970999 |      7.55834e-05 | logistic           | 6                          |                      0.001 |              300 |                   10 | {'activation': 'logistic', 'hidden_layer_sizes': 6, 'learning_rate_init': 0.001, 'max_iter': 300, 'random_state': 10}      |            0.333333 |            0.666667 |            0.583333 |          0.527778 |        0.141639  |                64 |\n",
            "|      0.221203   |    0.0242352   |       0.000948429 |      0.000176059 | logistic           | 6                          |                      0.001 |              300 |                   46 | {'activation': 'logistic', 'hidden_layer_sizes': 6, 'learning_rate_init': 0.001, 'max_iter': 300, 'random_state': 46}      |            0.583333 |            0.666667 |            0.75     |          0.666667 |        0.0680414 |                34 |\n",
            "+-----------------+----------------+-------------------+------------------+--------------------+----------------------------+----------------------------+------------------+----------------------+----------------------------------------------------------------------------------------------------------------------------+---------------------+---------------------+---------------------+-------------------+------------------+-------------------+\n",
            "Melhores parâmetros encontrados:  {'activation': 'logistic', 'hidden_layer_sizes': 8, 'learning_rate_init': 0.01, 'max_iter': 300, 'random_state': 10}\n"
          ]
        }
      ]
    },
    {
      "cell_type": "markdown",
      "source": [],
      "metadata": {
        "id": "2kaFsbT3plb4"
      }
    },
    {
      "cell_type": "markdown",
      "source": [
        "Neste ponto definimos a técnica de Machine Learning a ser utilizada e treinamos o modelo usando Validação Cruzada. No exemplo, um classificador do tipo MLP. Importante destacar que há no sklearn outros parâmetros que podemos explorar na busca por um modelo robusto. \n",
        "\n",
        "Observer que, diferente do HOLDOUT, não usamos a função *fit()* e sim *model_selection.cross_val_score()*. Esta função irá treinar T modelos. A cada iteração treina usando T-1 pastas e testa com uma delas. Troca a pasta de teste a cada iteração. Ao final fornece como resultado acurácia média + desvio padrão.\n",
        "\n",
        "OBS: protocolo muito mais robusto que o HOLDOUT, pois cada instância do problema será teste em alguma iteração."
      ],
      "metadata": {
        "id": "GoHd_-t7ddK8"
      }
    },
    {
      "cell_type": "code",
      "source": [
        "\n",
        "# Usando a validação cruzada com 5 folds neste exemplo.\n",
        "T=5 # número de pastas ou folds\n",
        "result = model_selection.cross_val_score(clf, X, y, cv=T)\n"
      ],
      "metadata": {
        "id": "5sGXRIInYuUx",
        "colab": {
          "base_uri": "https://localhost:8080/"
        },
        "outputId": "d9a5d1a7-b23a-428e-f3dc-d3d42760a991"
      },
      "execution_count": null,
      "outputs": [
        {
          "output_type": "stream",
          "name": "stderr",
          "text": [
            "/usr/local/lib/python3.9/dist-packages/sklearn/neural_network/_multilayer_perceptron.py:686: ConvergenceWarning: Stochastic Optimizer: Maximum iterations (300) reached and the optimization hasn't converged yet.\n",
            "  warnings.warn(\n",
            "/usr/local/lib/python3.9/dist-packages/sklearn/neural_network/_multilayer_perceptron.py:686: ConvergenceWarning: Stochastic Optimizer: Maximum iterations (300) reached and the optimization hasn't converged yet.\n",
            "  warnings.warn(\n",
            "/usr/local/lib/python3.9/dist-packages/sklearn/neural_network/_multilayer_perceptron.py:686: ConvergenceWarning: Stochastic Optimizer: Maximum iterations (300) reached and the optimization hasn't converged yet.\n",
            "  warnings.warn(\n",
            "/usr/local/lib/python3.9/dist-packages/sklearn/neural_network/_multilayer_perceptron.py:686: ConvergenceWarning: Stochastic Optimizer: Maximum iterations (300) reached and the optimization hasn't converged yet.\n",
            "  warnings.warn(\n"
          ]
        }
      ]
    },
    {
      "cell_type": "markdown",
      "source": [
        "Avaliação do modelo abaixo:\n",
        "\n",
        "- A variável *result* que criamos anteriormente já tem a taxa de acerto média e desvio padrão calculadas pela função *model_selection.cross_val_score()*.\n",
        "\n",
        "- A função *model_selection.cross_val_predict()* retorna a classe para cada exemplo de teste.\n",
        "\n",
        "- A função *model_selection.cross_val_predict()* com parâmetro '*method=predict_proba*' retorna a probabilidade de cada classe para cada exemplo de teste.\n",
        "\n",
        "Considerando tp=true positivive, tn=true negative, fp=false positive, fn=false negative.\n",
        "\n",
        "- A função *precision_score()*: calcula tp / (tp + fp)\n",
        "\n",
        "- A função *recall_score()* calcula: tp / (tp + fn)\n",
        "\n",
        "- A função *f1_score()* calcula a média harmônica entre *precision* e *recall*.\n",
        "\n",
        "- A função *confusion_matrix()* recebe como entrada os rótulos do teste (y_test) e a predição do modelo (y_pred). Ela retorna uma matriz CxC onde C é a quandidade de classes. No exemplo C=3, logo uma matriz 3x3 onde na diagonal temos os acertos e nas demais posições as confusões entre as classes do problema. A matriz de confusão é usada para avaliar classificador apenas e muito importante para analisarmos os erros do nosso modelo (ou hipótese de solução para o problema).  \n"
      ],
      "metadata": {
        "id": "mJpnX6Ase_FW"
      }
    },
    {
      "cell_type": "code",
      "source": [
        "\n",
        "# Mostrando a acurácia média e desvio padrão.\n",
        "print(\"\\nCross Validation Results %d folds:\" % T)\n",
        "print(\"Mean Accuracy: %.5f\" % result.mean())\n",
        "print(\"Mean Std: %.5f\" % result.std())\n",
        "\n",
        "# Calculando a predição para cada exemplo de teste\n",
        "y_pred = model_selection.cross_val_predict(clf, X, y, cv=T)\n",
        "\n",
        "# Calculando para cada instância de teste a probabilidade de cada classe\n",
        "predicted_proba=model_selection.cross_val_predict(clf, X, y, cv=T, method='predict_proba')\n",
        "\n",
        "# Calculando a precisão na base de teste\n",
        "precision=precision_score(y, y_pred, average='weighted')\n",
        "print(\"Precision = %.3f \" % precision)\n",
        "\n",
        "# Calculando a revocação na base de teste\n",
        "recall=recall_score(y, y_pred, average='weighted')\n",
        "print(\"Recall = %.3f \" % recall)\n",
        "\n",
        "# Calculando f1 na base de teste\n",
        "f1=f1_score(y, y_pred, average='weighted')\n",
        "print(\"F1 = %.3f \" % f1)\n",
        "\n",
        "# Exemplo mostrando o resultado previsto para a primeira instância de teste\n",
        "print(\"Primeira instância na base de teste foi considerada como da classe: %d\" % y_pred[0])\n",
        "\n",
        "# Exemplo abaixo mostrando para a primeira instância de teste a probabilidade de cada classe\n",
        "print(\"Probabilidade de cada classe para a primeira instância: \", predicted_proba[0])\n",
        "\n",
        "# Calculando a matriz de confusão\n",
        "print(\"Matriz de Confusão:\")\n",
        "matrix = confusion_matrix(y, y_pred)\n",
        "print(matrix)\n",
        "\n",
        "# salvando o modelo \n",
        "from joblib import dump, load\n",
        "with open(\"MLP.mod\", 'wb') as fo:  \n",
        "    dump(clf, fo)"
      ],
      "metadata": {
        "id": "_vN1HK85emfw",
        "colab": {
          "base_uri": "https://localhost:8080/"
        },
        "outputId": "237a6cba-d9c7-4096-9e8a-af7fb02212b5"
      },
      "execution_count": null,
      "outputs": [
        {
          "output_type": "stream",
          "name": "stdout",
          "text": [
            "\n",
            "Cross Validation Results 5 folds:\n",
            "Mean Accuracy: 0.94409\n",
            "Mean Std: 0.04682\n"
          ]
        },
        {
          "output_type": "stream",
          "name": "stderr",
          "text": [
            "/usr/local/lib/python3.9/dist-packages/sklearn/neural_network/_multilayer_perceptron.py:686: ConvergenceWarning: Stochastic Optimizer: Maximum iterations (300) reached and the optimization hasn't converged yet.\n",
            "  warnings.warn(\n",
            "/usr/local/lib/python3.9/dist-packages/sklearn/neural_network/_multilayer_perceptron.py:686: ConvergenceWarning: Stochastic Optimizer: Maximum iterations (300) reached and the optimization hasn't converged yet.\n",
            "  warnings.warn(\n",
            "/usr/local/lib/python3.9/dist-packages/sklearn/neural_network/_multilayer_perceptron.py:686: ConvergenceWarning: Stochastic Optimizer: Maximum iterations (300) reached and the optimization hasn't converged yet.\n",
            "  warnings.warn(\n",
            "/usr/local/lib/python3.9/dist-packages/sklearn/neural_network/_multilayer_perceptron.py:686: ConvergenceWarning: Stochastic Optimizer: Maximum iterations (300) reached and the optimization hasn't converged yet.\n",
            "  warnings.warn(\n",
            "/usr/local/lib/python3.9/dist-packages/sklearn/neural_network/_multilayer_perceptron.py:686: ConvergenceWarning: Stochastic Optimizer: Maximum iterations (300) reached and the optimization hasn't converged yet.\n",
            "  warnings.warn(\n",
            "/usr/local/lib/python3.9/dist-packages/sklearn/neural_network/_multilayer_perceptron.py:686: ConvergenceWarning: Stochastic Optimizer: Maximum iterations (300) reached and the optimization hasn't converged yet.\n",
            "  warnings.warn(\n",
            "/usr/local/lib/python3.9/dist-packages/sklearn/neural_network/_multilayer_perceptron.py:686: ConvergenceWarning: Stochastic Optimizer: Maximum iterations (300) reached and the optimization hasn't converged yet.\n",
            "  warnings.warn(\n"
          ]
        },
        {
          "output_type": "stream",
          "name": "stdout",
          "text": [
            "Precision = 0.944 \n",
            "Recall = 0.944 \n",
            "F1 = 0.944 \n",
            "Primeira instância na base de teste foi considerada como da classe: 0\n",
            "Probabilidade de cada classe para a primeira instância:  [0.88365813 0.05453527 0.0618066 ]\n",
            "Matriz de Confusão:\n",
            "[[45  2  0]\n",
            " [ 1 53  3]\n",
            " [ 0  2 36]]\n"
          ]
        },
        {
          "output_type": "stream",
          "name": "stderr",
          "text": [
            "/usr/local/lib/python3.9/dist-packages/sklearn/neural_network/_multilayer_perceptron.py:686: ConvergenceWarning: Stochastic Optimizer: Maximum iterations (300) reached and the optimization hasn't converged yet.\n",
            "  warnings.warn(\n"
          ]
        }
      ]
    },
    {
      "cell_type": "markdown",
      "source": [],
      "metadata": {
        "id": "lMgRPNIMekfU"
      }
    }
  ]
}