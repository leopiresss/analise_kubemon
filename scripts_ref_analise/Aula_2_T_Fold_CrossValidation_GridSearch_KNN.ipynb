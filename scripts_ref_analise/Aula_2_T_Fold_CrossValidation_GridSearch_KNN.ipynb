{
  "nbformat": 4,
  "nbformat_minor": 0,
  "metadata": {
    "colab": {
      "provenance": []
    },
    "kernelspec": {
      "name": "python3",
      "display_name": "Python 3"
    }
  },
  "cells": [
    {
      "cell_type": "markdown",
      "source": [
        "Neste exemplo treinamos e avaliamos um modelo preditivo usando **T-fold-CrossValidation**, ou Validação Cruzada com T Pastas\n",
        "\n",
        "- técnica de aprendizagem usada: KNN (K-nearest Neighbors)\n",
        "- tarefa supervisionada: classificação de dígitos manuscritos\n",
        "- métricas de avaliação: taxa de acerto, precisão, revocação, f1 e matriz de confusão\n",
        "\n",
        "Importando os recursos necessários:\n",
        "- numpy: biblioteca numérica\n",
        "- sklearn: biblioteca de machine learning, em especial o KNN, as métricas de avaliação e o model_selection que nos permite executar validação cruzada"
      ],
      "metadata": {
        "id": "XxjDrcRJYyA2"
      }
    },
    {
      "cell_type": "code",
      "metadata": {
        "id": "SmS-tOd6u9fO"
      },
      "source": [
        "# Importa bibliotecas necessárias \n",
        "import numpy as np\n",
        "from sklearn.neighbors import KNeighborsClassifier\n",
        "from sklearn import model_selection\n",
        "from sklearn.metrics import confusion_matrix, precision_score, recall_score, f1_score\n",
        "from sklearn.datasets import load_digits"
      ],
      "execution_count": 17,
      "outputs": []
    },
    {
      "cell_type": "markdown",
      "source": [
        "Carregando a base de dados do problema, representada aqui por X e y, onde:\n",
        "- X: array contendo N instâncias com M atributos (atributos de entrada do problema)\n",
        "- y: array contendo o rótulo (atributo alvo) de cada instância em X\n"
      ],
      "metadata": {
        "id": "LuQLGeQNWpME"
      }
    },
    {
      "cell_type": "code",
      "source": [
        "# Neste exemplo a base de dados digits é composto por 1.797 instâncias (N=1.797), imagens de tamanho 8x8\n",
        "# e cada instância é representada por um vetor de 64 atributos (M=64), sendo que cada atributo pode ter um valor entre 0 e 16 (valor do pixel)\n",
        "\n",
        "X, y = load_digits(return_X_y=True)\n",
        "print(\"Formato de X: \", X.shape)\n",
        "print(\"Formato de y: \", y.shape)\n",
        "\n"
      ],
      "metadata": {
        "colab": {
          "base_uri": "https://localhost:8080/"
        },
        "id": "ypO-BKeSWlhU",
        "outputId": "59bd86f2-1442-4001-884b-1ec7266fd956"
      },
      "execution_count": 18,
      "outputs": [
        {
          "output_type": "stream",
          "name": "stdout",
          "text": [
            "Formato de X:  (1797, 64)\n",
            "Formato de y:  (1797,)\n"
          ]
        }
      ]
    },
    {
      "cell_type": "code",
      "source": [
        "# Usando o GridSearch para buscar os melhores parâmetros para nosso modelo\n",
        "from sklearn.model_selection import train_test_split, GridSearchCV\n",
        "\n",
        "# Separando da base original uma base de validação\n",
        "X, X_val, y, y_val = train_test_split(X,y, test_size=0.2, random_state=42, stratify=y)\n",
        "\n",
        "# Definindo a técnica a ser utilizada\n",
        "clf = KNeighborsClassifier()\n",
        "\n",
        "# parâmetros que o Gridsearch utilizará em sua busca\n",
        "parameters = [{'n_neighbors':[1,3,5,7,9,11], 'weights': ['uniform', 'distance'], 'p': [1,2]}]\n",
        "\n",
        "# Execução do Gridsearch \n",
        "gs=GridSearchCV(clf, parameters, scoring='accuracy', cv=5, n_jobs=-1)\n",
        "gs.fit(X_val, y_val)\n",
        "\n",
        "# Mostrando a tabela de resultados do GridSearch (opcional)\n",
        "from tabulate import tabulate\n",
        "import pandas as pd\n",
        "df=gs.cv_results_\n",
        "print(tabulate(df, headers='keys', tablefmt='psql'))\n",
        "print(\"Melhores parâmetros encontrados: \", gs.best_params_)\n",
        "\n",
        "# Recuperando os melhores resultados\n",
        "clf=gs.best_estimator_\n"
      ],
      "metadata": {
        "colab": {
          "base_uri": "https://localhost:8080/"
        },
        "id": "1y1XJefTgljA",
        "outputId": "6a4e56b1-3ef1-4fac-8c1f-87acf74c2094"
      },
      "execution_count": 19,
      "outputs": [
        {
          "output_type": "stream",
          "name": "stdout",
          "text": [
            "+-----------------+----------------+-------------------+------------------+---------------------+-----------+-----------------+----------------------------------------------------+---------------------+---------------------+---------------------+---------------------+---------------------+-------------------+------------------+-------------------+\n",
            "|   mean_fit_time |   std_fit_time |   mean_score_time |   std_score_time |   param_n_neighbors |   param_p | param_weights   | params                                             |   split0_test_score |   split1_test_score |   split2_test_score |   split3_test_score |   split4_test_score |   mean_test_score |   std_test_score |   rank_test_score |\n",
            "|-----------------+----------------+-------------------+------------------+---------------------+-----------+-----------------+----------------------------------------------------+---------------------+---------------------+---------------------+---------------------+---------------------+-------------------+------------------+-------------------|\n",
            "|     0.00212431  |    0.00208545  |        0.0273152  |      0.0144011   |                   1 |         1 | uniform         | {'n_neighbors': 1, 'p': 1, 'weights': 'uniform'}   |            0.972222 |            0.930556 |            0.958333 |            0.930556 |            0.944444 |          0.947222 |        0.0161971 |                 7 |\n",
            "|     0.00304155  |    0.00402425  |        0.00936289 |      0.00286223  |                   1 |         1 | distance        | {'n_neighbors': 1, 'p': 1, 'weights': 'distance'}  |            0.972222 |            0.930556 |            0.958333 |            0.930556 |            0.944444 |          0.947222 |        0.0161971 |                 7 |\n",
            "|     0.000946999 |    7.28068e-05 |        0.00990682 |      0.00124377  |                   1 |         2 | uniform         | {'n_neighbors': 1, 'p': 2, 'weights': 'uniform'}   |            0.944444 |            0.944444 |            0.972222 |            0.944444 |            0.972222 |          0.955556 |        0.0136083 |                 2 |\n",
            "|     0.00095644  |    6.86643e-05 |        0.0024508  |      7.12645e-05 |                   1 |         2 | distance        | {'n_neighbors': 1, 'p': 2, 'weights': 'distance'}  |            0.944444 |            0.944444 |            0.972222 |            0.944444 |            0.972222 |          0.955556 |        0.0136083 |                 2 |\n",
            "|     0.00252781  |    0.00324511  |        0.0128984  |      0.00275575  |                   3 |         1 | uniform         | {'n_neighbors': 3, 'p': 1, 'weights': 'uniform'}   |            0.958333 |            0.888889 |            0.944444 |            0.930556 |            0.972222 |          0.938889 |        0.028599  |                14 |\n",
            "|     0.000879669 |    2.95784e-05 |        0.0123427  |      0.000999092 |                   3 |         1 | distance        | {'n_neighbors': 3, 'p': 1, 'weights': 'distance'}  |            0.958333 |            0.902778 |            0.958333 |            0.944444 |            0.972222 |          0.947222 |        0.0238953 |                 7 |\n",
            "|     0.000864887 |    6.2486e-05  |        0.0112013  |      0.00162868  |                   3 |         2 | uniform         | {'n_neighbors': 3, 'p': 2, 'weights': 'uniform'}   |            0.958333 |            0.902778 |            0.972222 |            0.944444 |            0.986111 |          0.952778 |        0.028599  |                 4 |\n",
            "|     0.000843334 |    6.36561e-05 |        0.00570402 |      0.00555504  |                   3 |         2 | distance        | {'n_neighbors': 3, 'p': 2, 'weights': 'distance'}  |            0.958333 |            0.902778 |            0.972222 |            0.958333 |            0.986111 |          0.955556 |        0.0283279 |                 1 |\n",
            "|     0.00255251  |    0.00324367  |        0.0147698  |      0.00408802  |                   5 |         1 | uniform         | {'n_neighbors': 5, 'p': 1, 'weights': 'uniform'}   |            0.902778 |            0.888889 |            0.958333 |            0.958333 |            0.986111 |          0.938889 |        0.0368514 |                14 |\n",
            "|     0.00230556  |    0.00289367  |        0.0110108  |      0.00281932  |                   5 |         1 | distance        | {'n_neighbors': 5, 'p': 1, 'weights': 'distance'}  |            0.944444 |            0.888889 |            0.958333 |            0.944444 |            0.986111 |          0.944444 |        0.0316715 |                12 |\n",
            "|     0.00274525  |    0.00243468  |        0.00739422 |      0.00327037  |                   5 |         2 | uniform         | {'n_neighbors': 5, 'p': 2, 'weights': 'uniform'}   |            0.930556 |            0.888889 |            0.972222 |            0.944444 |            0.986111 |          0.944444 |        0.0340207 |                12 |\n",
            "|     0.000829363 |    0.000103407 |        0.00953612 |      0.00620527  |                   5 |         2 | distance        | {'n_neighbors': 5, 'p': 2, 'weights': 'distance'}  |            0.930556 |            0.902778 |            0.986111 |            0.958333 |            0.972222 |          0.95     |        0.0299176 |                 5 |\n",
            "|     0.00166459  |    0.00160973  |        0.0181817  |      0.00478648  |                   7 |         1 | uniform         | {'n_neighbors': 7, 'p': 1, 'weights': 'uniform'}   |            0.902778 |            0.888889 |            0.944444 |            0.944444 |            0.986111 |          0.933333 |        0.0344713 |                19 |\n",
            "|     0.000906038 |    4.75924e-05 |        0.0129826  |      0.000729604 |                   7 |         1 | distance        | {'n_neighbors': 7, 'p': 1, 'weights': 'distance'}  |            0.944444 |            0.902778 |            0.944444 |            0.958333 |            0.986111 |          0.947222 |        0.0269316 |                 7 |\n",
            "|     0.00302377  |    0.00291381  |        0.00813618 |      0.0030236   |                   7 |         2 | uniform         | {'n_neighbors': 7, 'p': 2, 'weights': 'uniform'}   |            0.902778 |            0.916667 |            0.972222 |            0.930556 |            0.972222 |          0.938889 |        0.028599  |                14 |\n",
            "|     0.000794983 |    4.21586e-05 |        0.0060349  |      0.00305979  |                   7 |         2 | distance        | {'n_neighbors': 7, 'p': 2, 'weights': 'distance'}  |            0.930556 |            0.930556 |            0.972222 |            0.930556 |            0.986111 |          0.95     |        0.0242161 |                 5 |\n",
            "|     0.00100446  |    0.000136286 |        0.0245116  |      0.000685678 |                   9 |         1 | uniform         | {'n_neighbors': 9, 'p': 1, 'weights': 'uniform'}   |            0.902778 |            0.847222 |            0.958333 |            0.875    |            0.972222 |          0.911111 |        0.0477907 |                22 |\n",
            "|     0.0028595   |    0.00370043  |        0.0115133  |      0.00638783  |                   9 |         1 | distance        | {'n_neighbors': 9, 'p': 1, 'weights': 'distance'}  |            0.930556 |            0.902778 |            0.958333 |            0.916667 |            0.986111 |          0.938889 |        0.0299176 |                14 |\n",
            "|     0.000770569 |    4.33791e-05 |        0.0046742  |      6.64847e-05 |                   9 |         2 | uniform         | {'n_neighbors': 9, 'p': 2, 'weights': 'uniform'}   |            0.916667 |            0.875    |            0.972222 |            0.902778 |            0.958333 |          0.925    |        0.0357892 |                20 |\n",
            "|     0.000796556 |    7.67056e-05 |        0.00249562 |      0.000123877 |                   9 |         2 | distance        | {'n_neighbors': 9, 'p': 2, 'weights': 'distance'}  |            0.944444 |            0.902778 |            0.972222 |            0.930556 |            0.986111 |          0.947222 |        0.0296586 |                11 |\n",
            "|     0.000872517 |    0.000110338 |        0.00818324 |      0.00110362  |                  11 |         1 | uniform         | {'n_neighbors': 11, 'p': 1, 'weights': 'uniform'}  |            0.875    |            0.833333 |            0.944444 |            0.902778 |            0.958333 |          0.902778 |        0.0456435 |                24 |\n",
            "|     0.000875998 |    3.79382e-05 |        0.00539937 |      0.000128719 |                  11 |         1 | distance        | {'n_neighbors': 11, 'p': 1, 'weights': 'distance'} |            0.916667 |            0.861111 |            0.944444 |            0.916667 |            0.972222 |          0.922222 |        0.0368514 |                21 |\n",
            "|     0.000850248 |    2.94986e-05 |        0.00495729 |      0.000256994 |                  11 |         2 | uniform         | {'n_neighbors': 11, 'p': 2, 'weights': 'uniform'}  |            0.861111 |            0.847222 |            0.972222 |            0.902778 |            0.972222 |          0.911111 |        0.053142  |                22 |\n",
            "|     0.000768089 |    2.17328e-05 |        0.00255685 |      3.10788e-05 |                  11 |         2 | distance        | {'n_neighbors': 11, 'p': 2, 'weights': 'distance'} |            0.916667 |            0.888889 |            0.972222 |            0.916667 |            0.986111 |          0.936111 |        0.0368514 |                18 |\n",
            "+-----------------+----------------+-------------------+------------------+---------------------+-----------+-----------------+----------------------------------------------------+---------------------+---------------------+---------------------+---------------------+---------------------+-------------------+------------------+-------------------+\n",
            "Melhores parâmetros encontrados:  {'n_neighbors': 3, 'p': 2, 'weights': 'distance'}\n"
          ]
        }
      ]
    },
    {
      "cell_type": "markdown",
      "source": [
        "Neste ponto definimos a técnica de Machine Learning a ser utilizada e treinamos o modelo usando Validação Cruzada. No exemplo, um classificador KNN onde K=3. Importante destacar que há no sklearn outros parâmetros do KNN que podemos explorar na busca por um modelo robusto. \n",
        "\n",
        "Observer que, diferente do HOLDOUT, não usamos a função *fit()* e sim *model_selection.cross_val_score()*. Esta função irá treinar T modelos. A cada iteração treina usando T-1 pastas e testa com uma delas. Troca a pasta de teste a cada iteração. Ao final fornece como resultado acurácia média + desvio padrão.\n",
        "\n",
        "OBS: protocolo muito mais robusto que o HOLDOUT, pois cada instância do problema será teste em alguma iteração."
      ],
      "metadata": {
        "id": "GoHd_-t7ddK8"
      }
    },
    {
      "cell_type": "code",
      "source": [
        "\n",
        "# Usando a validação cruzada com 5 folds neste exemplo.\n",
        "T=5 # número de pastas ou folds\n",
        "result = model_selection.cross_val_score(clf, X, y, cv=T)\n"
      ],
      "metadata": {
        "id": "5sGXRIInYuUx"
      },
      "execution_count": 20,
      "outputs": []
    },
    {
      "cell_type": "markdown",
      "source": [
        "Avaliação do modelo abaixo:\n",
        "\n",
        "- A variável *result* que criamos anteriormente já tem a taxa de acerto média e desvio padrão calculadas pela função *model_selection.cross_val_score()*.\n",
        "\n",
        "- A função *model_selection.cross_val_predict()* retorna a classe para cada exemplo de teste.\n",
        "\n",
        "- A função *model_selection.cross_val_predict()* com parâmetro '*method=predict_proba*' retorna a probabilidade de cada classe para cada exemplo de teste.\n",
        "\n",
        "Considerando tp=true positivive, tn=true negative, fp=false positive, fn=false negative.\n",
        "\n",
        "- A função *precision_score()*: calcula tp / (tp + fp)\n",
        "\n",
        "- A função *recall_score()* calcula: tp / (tp + fn)\n",
        "\n",
        "- A função *f1_score()* calcula a média harmônica entre *precision* e *recall*.\n",
        "\n",
        "- A função *confusion_matrix()* recebe como entrada os rótulos do teste (y_test) e a predição do modelo (y_pred). Ela retorna uma matriz CxC onde C é a quandidade de classes. No exemplo C=10, logo uma matriz 10x10 onde na diagonal temos os acertos e nas demais posições as confusões entre as classes do problema. A matriz de confusão é usada para avaliar classificador apenas e muito importante para analisarmos os erros do nosso modelo (ou hipótese de solução para o problema).  \n"
      ],
      "metadata": {
        "id": "mJpnX6Ase_FW"
      }
    },
    {
      "cell_type": "code",
      "source": [
        "\n",
        "# Mostrando a acurácia média e desvio padrão.\n",
        "print(\"\\nCross Validation Results %d folds:\" % T)\n",
        "print(\"Mean Accuracy: %.5f\" % result.mean())\n",
        "print(\"Mean Std: %.5f\" % result.std())\n",
        "\n",
        "# Calculando a predição para cada exemplo de teste\n",
        "y_pred = model_selection.cross_val_predict(clf, X, y, cv=T)\n",
        "\n",
        "# Calculando para cada instância de teste a probabilidade de cada classe\n",
        "predicted_proba=model_selection.cross_val_predict(clf, X, y, cv=T, method='predict_proba')\n",
        "\n",
        "# Calculando a precisão na base de teste\n",
        "precision=precision_score(y, y_pred, average='weighted')\n",
        "print(\"Precision = %.3f \" % precision)\n",
        "\n",
        "# Calculando a revocação na base de teste\n",
        "recall=recall_score(y, y_pred, average='weighted')\n",
        "print(\"Recall = %.3f \" % recall)\n",
        "\n",
        "# Calculando f1 na base de teste\n",
        "f1=f1_score(y, y_pred, average='weighted')\n",
        "print(\"F1 = %.3f \" % f1)\n",
        "\n",
        "# Exemplo mostrando o resultado previsto para a primeira instância de teste\n",
        "print(\"Primeira instância na base de teste foi considerada como da classe: %d\" % y_pred[0])\n",
        "\n",
        "# Exemplo abaixo mostrando para a primeira instância de teste a probabilidade de cada classe\n",
        "print(\"Probabilidade de cada classe para a primeira instância: \", predicted_proba[0])\n",
        "\n",
        "# Calculando a matriz de confusão\n",
        "print(\"Matriz de Confusão:\")\n",
        "matrix = confusion_matrix(y, y_pred)\n",
        "print(matrix)\n",
        "\n",
        "# salvando o modelo \n",
        "from joblib import dump, load\n",
        "with open(\"KNN.mod\", 'wb') as fo:  \n",
        "    dump(clf, fo)"
      ],
      "metadata": {
        "colab": {
          "base_uri": "https://localhost:8080/"
        },
        "id": "_vN1HK85emfw",
        "outputId": "9ddf03b6-f58b-410e-e3c3-9c4f2d9a24c8"
      },
      "execution_count": 21,
      "outputs": [
        {
          "output_type": "stream",
          "name": "stdout",
          "text": [
            "\n",
            "Cross Validation Results 5 folds:\n",
            "Mean Accuracy: 0.98816\n",
            "Mean Std: 0.00871\n",
            "Precision = 0.988 \n",
            "Recall = 0.988 \n",
            "F1 = 0.988 \n",
            "Primeira instância na base de teste foi considerada como da classe: 9\n",
            "Probabilidade de cada classe para a primeira instância:  [0.         0.         0.         0.         0.         0.34262326\n",
            " 0.         0.         0.         0.65737674]\n",
            "Matriz de Confusão:\n",
            "[[142   0   0   0   0   0   0   0   0   0]\n",
            " [  0 146   0   0   0   0   0   0   0   0]\n",
            " [  0   0 141   0   0   0   0   1   0   0]\n",
            " [  0   0   0 144   0   0   0   2   0   0]\n",
            " [  0   0   0   0 144   0   0   1   0   0]\n",
            " [  0   0   0   0   0 142   1   0   0   2]\n",
            " [  0   0   0   0   0   0 145   0   0   0]\n",
            " [  0   0   0   0   0   0   0 142   0   1]\n",
            " [  0   4   0   0   0   0   1   0 134   0]\n",
            " [  0   0   0   2   0   1   0   0   1 140]]\n"
          ]
        }
      ]
    },
    {
      "cell_type": "markdown",
      "source": [],
      "metadata": {
        "id": "lMgRPNIMekfU"
      }
    }
  ]
}