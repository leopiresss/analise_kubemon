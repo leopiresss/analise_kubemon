{
  "cells": [
    {
      "cell_type": "markdown",
      "metadata": {
        "id": "XxjDrcRJYyA2"
      },
      "source": [
        "Neste exemplo treinamos e avaliamos um modelo preditivo usando **T-fold-CrossValidation**, ou Validação Cruzada com T Pastas\n",
        "\n",
        "- técnica de aprendizagem usada: Decision Tree\n",
        "- tarefa supervisionada: classificação de dígitos manuscritos\n",
        "- métricas de avaliação: taxa de acerto, precisão, revocação, f1 e matriz de confusão\n",
        "\n",
        "Importando os recursos necessários:\n",
        "- numpy: biblioteca numérica\n",
        "- sklearn: biblioteca de machine learning, em especial o KNN, as métricas de avaliação e o model_selection que nos permite executar validação cruzada"
      ]
    },
    {
      "cell_type": "code",
      "execution_count": 7,
      "metadata": {
        "id": "SmS-tOd6u9fO"
      },
      "outputs": [
        {
          "name": "stdout",
          "output_type": "stream",
          "text": [
            "Collecting tabulate\n",
            "  Downloading tabulate-0.9.0-py3-none-any.whl.metadata (34 kB)\n",
            "Downloading tabulate-0.9.0-py3-none-any.whl (35 kB)\n",
            "Installing collected packages: tabulate\n",
            "Successfully installed tabulate-0.9.0\n"
          ]
        }
      ],
      "source": [
        "!pip install tabulate\n",
        "# Importa bibliotecas necessárias \n",
        "import numpy as np\n",
        "from sklearn.tree import DecisionTreeClassifier\n",
        "from sklearn import model_selection\n",
        "from sklearn.metrics import confusion_matrix, precision_score, recall_score, f1_score\n",
        "from sklearn.datasets import load_digits\n"
      ]
    },
    {
      "cell_type": "markdown",
      "metadata": {
        "id": "LuQLGeQNWpME"
      },
      "source": [
        "Carregando a base de dados do problema, representada aqui por X e y, onde:\n",
        "- X: array contendo N instâncias com M atributos (atributos de entrada do problema)\n",
        "- y: array contendo o rótulo (atributo alvo) de cada instância em X\n"
      ]
    },
    {
      "cell_type": "code",
      "execution_count": 8,
      "metadata": {
        "colab": {
          "base_uri": "https://localhost:8080/"
        },
        "id": "ypO-BKeSWlhU",
        "outputId": "d61811ba-1103-4f2e-bd4d-8973b4871e68"
      },
      "outputs": [
        {
          "name": "stdout",
          "output_type": "stream",
          "text": [
            "Formato de X:  (1797, 64)\n",
            "Formato de y:  (1797,)\n"
          ]
        }
      ],
      "source": [
        "# Neste exemplo a base de dados digits é composto por 1.797 instâncias (N=1.797), imagens de tamanho 8x8\n",
        "# e cada instância é representada por um vetor de 64 atributos (M=64), sendo que cada atributo pode ter um valor entre 0 e 16 (valor do pixel)\n",
        "\n",
        "X, y = load_digits(return_X_y=True)\n",
        "print(\"Formato de X: \", X.shape)\n",
        "print(\"Formato de y: \", y.shape)\n",
        "\n"
      ]
    },
    {
      "cell_type": "code",
      "execution_count": 14,
      "metadata": {
        "colab": {
          "base_uri": "https://localhost:8080/"
        },
        "id": "1y1XJefTgljA",
        "outputId": "dd77575d-d51d-460a-a73e-5e5011590a91"
      },
      "outputs": [
        {
          "name": "stdout",
          "output_type": "stream",
          "text": [
            "+-----------------+----------------+-------------------+------------------+-------------------+-------------------+----------------------+------------------+---------------------------------------------------------------------------------------+---------------------+---------------------+---------------------+---------------------+---------------------+-------------------+------------------+-------------------+\n",
            "|   mean_fit_time |   std_fit_time |   mean_score_time |   std_score_time | param_criterion   |   param_max_depth |   param_random_state | param_splitter   | params                                                                                |   split0_test_score |   split1_test_score |   split2_test_score |   split3_test_score |   split4_test_score |   mean_test_score |   std_test_score |   rank_test_score |\n",
            "|-----------------+----------------+-------------------+------------------+-------------------+-------------------+----------------------+------------------+---------------------------------------------------------------------------------------+---------------------+---------------------+---------------------+---------------------+---------------------+-------------------+------------------+-------------------|\n",
            "|     0.00120206  |    0.000399617 |       0.00060029  |      0.000490135 | entropy           |                   |                   10 | random           | {'criterion': 'entropy', 'max_depth': None, 'random_state': 10, 'splitter': 'random'} |            0.708333 |            0.583333 |            0.708333 |            0.652174 |            0.608696 |          0.652174 |        0.0508668 |                 3 |\n",
            "|     0.00220289  |    0.000400356 |       0.000400591 |      0.000490624 | entropy           |                   |                   10 | best             | {'criterion': 'entropy', 'max_depth': None, 'random_state': 10, 'splitter': 'best'}   |            0.666667 |            0.666667 |            0.5      |            0.565217 |            0.608696 |          0.601449 |        0.0635041 |                 5 |\n",
            "|     0.0010026   |    0.000549949 |       0.000502443 |      0.000635351 | entropy           |                   |                   42 | random           | {'criterion': 'entropy', 'max_depth': None, 'random_state': 42, 'splitter': 'random'} |            0.666667 |            0.625    |            0.541667 |            0.565217 |            0.565217 |          0.592754 |        0.0461071 |                 7 |\n",
            "|     0.00311155  |    0.000662411 |       0.00039959  |      0.000489395 | entropy           |                   |                   42 | best             | {'criterion': 'entropy', 'max_depth': None, 'random_state': 42, 'splitter': 'best'}   |            0.708333 |            0.541667 |            0.416667 |            0.565217 |            0.608696 |          0.568116 |        0.0948182 |                12 |\n",
            "|     0.00120044  |    0.000400306 |       0.0006001   |      0.00048998  | entropy           |                 5 |                   10 | random           | {'criterion': 'entropy', 'max_depth': 5, 'random_state': 10, 'splitter': 'random'}    |            0.583333 |            0.666667 |            0.708333 |            0.391304 |            0.478261 |          0.56558  |        0.117396  |                16 |\n",
            "|     0.00178566  |    0.000624519 |       0.000529718 |      0.000659144 | entropy           |                 5 |                   10 | best             | {'criterion': 'entropy', 'max_depth': 5, 'random_state': 10, 'splitter': 'best'}      |            0.708333 |            0.583333 |            0.458333 |            0.565217 |            0.608696 |          0.584783 |        0.0802632 |                 9 |\n",
            "|     0.000926733 |    0.00050029  |       0.00050211  |      0.000635465 | entropy           |                 5 |                   42 | random           | {'criterion': 'entropy', 'max_depth': 5, 'random_state': 42, 'splitter': 'random'}    |            0.625    |            0.458333 |            0.458333 |            0.521739 |            0.434783 |          0.499638 |        0.0690253 |                22 |\n",
            "|     0.00199795  |    1.67912e-06 |       0.000399828 |      0.000489691 | entropy           |                 5 |                   42 | best             | {'criterion': 'entropy', 'max_depth': 5, 'random_state': 42, 'splitter': 'best'}      |            0.666667 |            0.583333 |            0.333333 |            0.565217 |            0.608696 |          0.551449 |        0.114309  |                17 |\n",
            "|     0.00119929  |    0.000400763 |       0.000600386 |      0.000490214 | entropy           |                10 |                   10 | random           | {'criterion': 'entropy', 'max_depth': 10, 'random_state': 10, 'splitter': 'random'}   |            0.708333 |            0.583333 |            0.708333 |            0.652174 |            0.608696 |          0.652174 |        0.0508668 |                 3 |\n",
            "|     0.00230188  |    0.000597348 |       0.000617647 |      0.000504499 | entropy           |                10 |                   10 | best             | {'criterion': 'entropy', 'max_depth': 10, 'random_state': 10, 'splitter': 'best'}     |            0.666667 |            0.666667 |            0.5      |            0.565217 |            0.608696 |          0.601449 |        0.0635041 |                 5 |\n",
            "|     0.00131941  |    0.000408923 |       0.00030942  |      0.000415288 | entropy           |                10 |                   42 | random           | {'criterion': 'entropy', 'max_depth': 10, 'random_state': 42, 'splitter': 'random'}   |            0.666667 |            0.625    |            0.541667 |            0.565217 |            0.565217 |          0.592754 |        0.0461071 |                 7 |\n",
            "|     0.00211539  |    0.000385198 |       0.000601625 |      0.000491227 | entropy           |                10 |                   42 | best             | {'criterion': 'entropy', 'max_depth': 10, 'random_state': 42, 'splitter': 'best'}     |            0.708333 |            0.541667 |            0.416667 |            0.565217 |            0.608696 |          0.568116 |        0.0948182 |                12 |\n",
            "|     0.00130377  |    0.000749542 |       0.000800657 |      0.000400332 | gini              |                   |                   10 | random           | {'criterion': 'gini', 'max_depth': None, 'random_state': 10, 'splitter': 'random'}    |            0.5      |            0.5      |            0.666667 |            0.565217 |            0.434783 |          0.533333 |        0.0783949 |                20 |\n",
            "|     0.00180054  |    0.000398994 |       0.000599909 |      0.000489824 | gini              |                   |                   10 | best             | {'criterion': 'gini', 'max_depth': None, 'random_state': 10, 'splitter': 'best'}      |            0.75     |            0.541667 |            0.5      |            0.478261 |            0.565217 |          0.567029 |        0.096434  |                14 |\n",
            "|     0.00119967  |    0.000400806 |       0.000599957 |      0.000489863 | gini              |                   |                   42 | random           | {'criterion': 'gini', 'max_depth': None, 'random_state': 42, 'splitter': 'random'}    |            0.625    |            0.833333 |            0.583333 |            0.521739 |            0.782609 |          0.669203 |        0.119057  |                 1 |\n",
            "|     0.00139976  |    0.000489493 |       0.00070138  |      0.000601868 | gini              |                   |                   42 | best             | {'criterion': 'gini', 'max_depth': None, 'random_state': 42, 'splitter': 'best'}      |            0.791667 |            0.541667 |            0.458333 |            0.521739 |            0.434783 |          0.549638 |        0.127238  |                18 |\n",
            "|     0.00140276  |    0.000374919 |       0.000401926 |      0.000492265 | gini              |                 5 |                   10 | random           | {'criterion': 'gini', 'max_depth': 5, 'random_state': 10, 'splitter': 'random'}       |            0.458333 |            0.666667 |            0.666667 |            0.521739 |            0.565217 |          0.575725 |        0.0816657 |                11 |\n",
            "|     0.00170937  |    0.000403452 |       0.00040369  |      0.000494418 | gini              |                 5 |                   10 | best             | {'criterion': 'gini', 'max_depth': 5, 'random_state': 10, 'splitter': 'best'}         |            0.666667 |            0.541667 |            0.333333 |            0.434783 |            0.478261 |          0.490942 |        0.111002  |                23 |\n",
            "|     0.000928211 |    0.000498969 |       0.000703478 |      0.000603119 | gini              |                 5 |                   42 | random           | {'criterion': 'gini', 'max_depth': 5, 'random_state': 42, 'splitter': 'random'}       |            0.583333 |            0.666667 |            0.458333 |            0.521739 |            0.652174 |          0.576449 |        0.0785689 |                10 |\n",
            "|     0.0018528   |    0.000451578 |       0.000646305 |      0.000529379 | gini              |                 5 |                   42 | best             | {'criterion': 'gini', 'max_depth': 5, 'random_state': 42, 'splitter': 'best'}         |            0.625    |            0.541667 |            0.375    |            0.434783 |            0.391304 |          0.473551 |        0.095453  |                24 |\n",
            "|     0.00102324  |    4.61583e-05 |       0.000846767 |      0.000426582 | gini              |                10 |                   10 | random           | {'criterion': 'gini', 'max_depth': 10, 'random_state': 10, 'splitter': 'random'}      |            0.5      |            0.5      |            0.666667 |            0.565217 |            0.434783 |          0.533333 |        0.0783949 |                20 |\n",
            "|     0.00195179  |    0.000730096 |       0.000501156 |      0.000634144 | gini              |                10 |                   10 | best             | {'criterion': 'gini', 'max_depth': 10, 'random_state': 10, 'splitter': 'best'}        |            0.75     |            0.541667 |            0.5      |            0.478261 |            0.565217 |          0.567029 |        0.096434  |                14 |\n",
            "|     0.00120521  |    0.000875344 |       0.000703812 |      0.000602725 | gini              |                10 |                   42 | random           | {'criterion': 'gini', 'max_depth': 10, 'random_state': 42, 'splitter': 'random'}      |            0.625    |            0.833333 |            0.583333 |            0.521739 |            0.782609 |          0.669203 |        0.119057  |                 1 |\n",
            "|     0.00181088  |    0.000401918 |       0.000702238 |      0.000399569 | gini              |                10 |                   42 | best             | {'criterion': 'gini', 'max_depth': 10, 'random_state': 42, 'splitter': 'best'}        |            0.791667 |            0.541667 |            0.458333 |            0.521739 |            0.434783 |          0.549638 |        0.127238  |                18 |\n",
            "+-----------------+----------------+-------------------+------------------+-------------------+-------------------+----------------------+------------------+---------------------------------------------------------------------------------------+---------------------+---------------------+---------------------+---------------------+---------------------+-------------------+------------------+-------------------+\n",
            "Melhores parâmetros encontrados:  {'criterion': 'gini', 'max_depth': None, 'random_state': 42, 'splitter': 'random'}\n"
          ]
        }
      ],
      "source": [
        "# Usando o GridSearch para buscar os melhores parâmetros para nosso modelo\n",
        "from sklearn.model_selection import train_test_split, GridSearchCV\n",
        "from sklearn.preprocessing import StandardScaler, LabelEncoder, PowerTransformer\n",
        "\n",
        "# Separando da base original uma base de validação\n",
        "X, X_val, y, y_val = train_test_split(X,y, test_size=0.2, random_state=42, stratify=y)\n",
        "\n",
        "# Definindo a técnica a ser utilizada\n",
        "clf = DecisionTreeClassifier()\n",
        "\n",
        "# parâmetros que o Gridsearch utilizará em sua busca\n",
        "parameters = [{'criterion':['entropy', 'gini'], 'splitter': ['random', 'best'], 'random_state': [10,42], \n",
        "               'max_depth':[None, 5, 10]}]\n",
        "\n",
        "\n",
        "yeo_johnson_transformer = PowerTransformer(method='yeo-johnson', standardize=True)\n",
        "# O fit é feito apenas no conjunto de treino para evitar data leakage\n",
        "#X_val_scaled = yeo_johnson_transformer.transform(X_val)\n",
        "X_val_scaled = yeo_johnson_transformer.fit_transform(X_val)\n",
        "# Execução do Gridsearch \n",
        "\n",
        "gs=GridSearchCV(clf, parameters, scoring='accuracy', cv=5, n_jobs=-1)\n",
        "gs.fit(X_val_scaled, y_val)\n",
        "\n",
        "# Mostrando a tabela de resultados do GridSearch (opcional)\n",
        "from tabulate import tabulate\n",
        "import pandas as pd\n",
        "df=gs.cv_results_\n",
        "print(tabulate(df, headers='keys', tablefmt='psql'))\n",
        "print(\"Melhores parâmetros encontrados: \", gs.best_params_)\n",
        "\n",
        "# Recuperando os melhores resultados\n",
        "clf=gs.best_estimator_\n"
      ]
    },
    {
      "cell_type": "markdown",
      "metadata": {
        "id": "2kaFsbT3plb4"
      },
      "source": []
    },
    {
      "cell_type": "markdown",
      "metadata": {
        "id": "GoHd_-t7ddK8"
      },
      "source": [
        "Neste ponto definimos a técnica de Machine Learning a ser utilizada e treinamos o modelo usando Validação Cruzada. No exemplo, um classificador do tipo àrvode de Decisão. Importante destacar que há no sklearn outros parâmetros do KNN que podemos explorar na busca por um modelo robusto. \n",
        "\n",
        "Observer que, diferente do HOLDOUT, não usamos a função *fit()* e sim *model_selection.cross_val_score()*. Esta função irá treinar T modelos. A cada iteração treina usando T-1 pastas e testa com uma delas. Troca a pasta de teste a cada iteração. Ao final fornece como resultado acurácia média + desvio padrão.\n",
        "\n",
        "OBS: protocolo muito mais robusto que o HOLDOUT, pois cada instância do problema será teste em alguma iteração."
      ]
    },
    {
      "cell_type": "code",
      "execution_count": 4,
      "metadata": {
        "id": "5sGXRIInYuUx"
      },
      "outputs": [],
      "source": [
        "\n",
        "# Usando a validação cruzada com 5 folds neste exemplo.\n",
        "T=5 # número de pastas ou folds\n",
        "result = model_selection.cross_val_score(clf, X, y, cv=T)\n"
      ]
    },
    {
      "cell_type": "markdown",
      "metadata": {
        "id": "mJpnX6Ase_FW"
      },
      "source": [
        "Avaliação do modelo abaixo:\n",
        "\n",
        "- A variável *result* que criamos anteriormente já tem a taxa de acerto média e desvio padrão calculadas pela função *model_selection.cross_val_score()*.\n",
        "\n",
        "- A função *model_selection.cross_val_predict()* retorna a classe para cada exemplo de teste.\n",
        "\n",
        "- A função *model_selection.cross_val_predict()* com parâmetro '*method=predict_proba*' retorna a probabilidade de cada classe para cada exemplo de teste.\n",
        "\n",
        "Considerando tp=true positivive, tn=true negative, fp=false positive, fn=false negative.\n",
        "\n",
        "- A função *precision_score()*: calcula tp / (tp + fp)\n",
        "\n",
        "- A função *recall_score()* calcula: tp / (tp + fn)\n",
        "\n",
        "- A função *f1_score()* calcula a média harmônica entre *precision* e *recall*.\n",
        "\n",
        "- A função *confusion_matrix()* recebe como entrada os rótulos do teste (y_test) e a predição do modelo (y_pred). Ela retorna uma matriz CxC onde C é a quandidade de classes. No exemplo C=10, logo uma matriz 10x10 onde na diagonal temos os acertos e nas demais posições as confusões entre as classes do problema. A matriz de confusão é usada para avaliar classificador apenas e muito importante para analisarmos os erros do nosso modelo (ou hipótese de solução para o problema).  \n"
      ]
    },
    {
      "cell_type": "code",
      "execution_count": 5,
      "metadata": {
        "colab": {
          "base_uri": "https://localhost:8080/"
        },
        "id": "_vN1HK85emfw",
        "outputId": "8437a8e2-4049-4e91-902c-f2cae40101e1"
      },
      "outputs": [
        {
          "name": "stdout",
          "output_type": "stream",
          "text": [
            "\n",
            "Cross Validation Results 5 folds:\n",
            "Mean Accuracy: 0.86360\n",
            "Mean Std: 0.01733\n",
            "Precision = 0.864 \n",
            "Recall = 0.864 \n",
            "F1 = 0.864 \n",
            "Primeira instância na base de teste foi considerada como da classe: 1\n",
            "Probabilidade de cada classe para a primeira instância:  [0. 1. 0. 0. 0. 0. 0. 0. 0. 0.]\n",
            "Matriz de Confusão:\n",
            "[[135   0   0   0   3   1   1   0   0   2]\n",
            " [  0 125   5   1   1   4   2   2   3   3]\n",
            " [  0   4 124   5   1   1   1   2   4   0]\n",
            " [  0   7   2 121   0   4   3   1   3   5]\n",
            " [  0   5   0   0 129   4   1   2   3   1]\n",
            " [  1   5   1   3   4 119   2   4   2   4]\n",
            " [  0   0   1   0   2   4 135   0   3   0]\n",
            " [  1   4   2   0   5   0   0 125   5   1]\n",
            " [  1   5   2   6   3   0   0   3 110   9]\n",
            " [  5   2   1   5   1   2   2   3   5 118]]\n"
          ]
        }
      ],
      "source": [
        "\n",
        "# Mostrando a acurácia média e desvio padrão.\n",
        "print(\"\\nCross Validation Results %d folds:\" % T)\n",
        "print(\"Mean Accuracy: %.5f\" % result.mean())\n",
        "print(\"Mean Std: %.5f\" % result.std())\n",
        "\n",
        "# Calculando a predição para cada exemplo de teste\n",
        "y_pred = model_selection.cross_val_predict(clf, X, y, cv=T)\n",
        "\n",
        "# Calculando para cada instância de teste a probabilidade de cada classe\n",
        "predicted_proba=model_selection.cross_val_predict(clf, X, y, cv=T, method='predict_proba')\n",
        "\n",
        "# Calculando a precisão na base de teste\n",
        "precision=precision_score(y, y_pred, average='weighted')\n",
        "print(\"Precision = %.3f \" % precision)\n",
        "\n",
        "# Calculando a revocação na base de teste\n",
        "recall=recall_score(y, y_pred, average='weighted')\n",
        "print(\"Recall = %.3f \" % recall)\n",
        "\n",
        "# Calculando f1 na base de teste\n",
        "f1=f1_score(y, y_pred, average='weighted')\n",
        "print(\"F1 = %.3f \" % f1)\n",
        "\n",
        "# Exemplo mostrando o resultado previsto para a primeira instância de teste\n",
        "print(\"Primeira instância na base de teste foi considerada como da classe: %d\" % y_pred[0])\n",
        "\n",
        "# Exemplo abaixo mostrando para a primeira instância de teste a probabilidade de cada classe\n",
        "print(\"Probabilidade de cada classe para a primeira instância: \", predicted_proba[0])\n",
        "\n",
        "# Calculando a matriz de confusão\n",
        "print(\"Matriz de Confusão:\")\n",
        "matrix = confusion_matrix(y, y_pred)\n",
        "print(matrix)\n",
        "\n",
        "# salvando o modelo \n",
        "from joblib import dump, load\n",
        "with open(\"Tree.mod\", 'wb') as fo:  \n",
        "    dump(clf, fo)"
      ]
    },
    {
      "cell_type": "markdown",
      "metadata": {
        "id": "lMgRPNIMekfU"
      },
      "source": []
    }
  ],
  "metadata": {
    "colab": {
      "provenance": []
    },
    "kernelspec": {
      "display_name": "tcc",
      "language": "python",
      "name": "python3"
    },
    "language_info": {
      "codemirror_mode": {
        "name": "ipython",
        "version": 3
      },
      "file_extension": ".py",
      "mimetype": "text/x-python",
      "name": "python",
      "nbconvert_exporter": "python",
      "pygments_lexer": "ipython3",
      "version": "3.12.11"
    }
  },
  "nbformat": 4,
  "nbformat_minor": 0
}
