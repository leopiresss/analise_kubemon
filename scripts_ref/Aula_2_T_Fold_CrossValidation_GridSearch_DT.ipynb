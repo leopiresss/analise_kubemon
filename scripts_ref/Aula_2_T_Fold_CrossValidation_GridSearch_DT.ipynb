{
  "cells": [
    {
      "cell_type": "markdown",
      "metadata": {
        "id": "XxjDrcRJYyA2"
      },
      "source": [
        "Neste exemplo treinamos e avaliamos um modelo preditivo usando **T-fold-CrossValidation**, ou Validação Cruzada com T Pastas\n",
        "\n",
        "- técnica de aprendizagem usada: Decision Tree\n",
        "- tarefa supervisionada: classificação de dígitos manuscritos\n",
        "- métricas de avaliação: taxa de acerto, precisão, revocação, f1 e matriz de confusão\n",
        "\n",
        "Importando os recursos necessários:\n",
        "- numpy: biblioteca numérica\n",
        "- sklearn: biblioteca de machine learning, em especial o KNN, as métricas de avaliação e o model_selection que nos permite executar validação cruzada"
      ]
    },
    {
      "cell_type": "code",
      "execution_count": 1,
      "metadata": {
        "id": "SmS-tOd6u9fO"
      },
      "outputs": [],
      "source": [
        "# Importa bibliotecas necessárias \n",
        "import numpy as np\n",
        "from sklearn.tree import DecisionTreeClassifier\n",
        "from sklearn import model_selection\n",
        "from sklearn.metrics import confusion_matrix, precision_score, recall_score, f1_score\n",
        "from sklearn.datasets import load_digits"
      ]
    },
    {
      "cell_type": "markdown",
      "metadata": {
        "id": "LuQLGeQNWpME"
      },
      "source": [
        "Carregando a base de dados do problema, representada aqui por X e y, onde:\n",
        "- X: array contendo N instâncias com M atributos (atributos de entrada do problema)\n",
        "- y: array contendo o rótulo (atributo alvo) de cada instância em X\n"
      ]
    },
    {
      "cell_type": "code",
      "execution_count": 2,
      "metadata": {
        "colab": {
          "base_uri": "https://localhost:8080/"
        },
        "id": "ypO-BKeSWlhU",
        "outputId": "d61811ba-1103-4f2e-bd4d-8973b4871e68"
      },
      "outputs": [
        {
          "name": "stdout",
          "output_type": "stream",
          "text": [
            "Formato de X:  (1797, 64)\n",
            "Formato de y:  (1797,)\n"
          ]
        }
      ],
      "source": [
        "# Neste exemplo a base de dados digits é composto por 1.797 instâncias (N=1.797), imagens de tamanho 8x8\n",
        "# e cada instância é representada por um vetor de 64 atributos (M=64), sendo que cada atributo pode ter um valor entre 0 e 16 (valor do pixel)\n",
        "\n",
        "X, y = load_digits(return_X_y=True)\n",
        "print(\"Formato de X: \", X.shape)\n",
        "print(\"Formato de y: \", y.shape)\n",
        "\n"
      ]
    },
    {
      "cell_type": "code",
      "execution_count": 3,
      "metadata": {
        "colab": {
          "base_uri": "https://localhost:8080/"
        },
        "id": "1y1XJefTgljA",
        "outputId": "dd77575d-d51d-460a-a73e-5e5011590a91"
      },
      "outputs": [
        {
          "name": "stdout",
          "output_type": "stream",
          "text": [
            "+-----------------+----------------+-------------------+------------------+-------------------+-------------------+----------------------+------------------+---------------------------------------------------------------------------------------+---------------------+---------------------+---------------------+---------------------+---------------------+-------------------+------------------+-------------------+\n",
            "|   mean_fit_time |   std_fit_time |   mean_score_time |   std_score_time | param_criterion   |   param_max_depth |   param_random_state | param_splitter   | params                                                                                |   split0_test_score |   split1_test_score |   split2_test_score |   split3_test_score |   split4_test_score |   mean_test_score |   std_test_score |   rank_test_score |\n",
            "|-----------------+----------------+-------------------+------------------+-------------------+-------------------+----------------------+------------------+---------------------------------------------------------------------------------------+---------------------+---------------------+---------------------+---------------------+---------------------+-------------------+------------------+-------------------|\n",
            "|      0.00444164 |    0.00196265  |       0.00088625  |      0.000350578 | entropy           |                   |                   10 | random           | {'criterion': 'entropy', 'max_depth': None, 'random_state': 10, 'splitter': 'random'} |            0.722222 |            0.694444 |            0.805556 |            0.638889 |            0.680556 |          0.708333 |        0.0555556 |                15 |\n",
            "|      0.00684872 |    0.000665865 |       0.00083971  |      0.00020238  | entropy           |                   |                   10 | best             | {'criterion': 'entropy', 'max_depth': None, 'random_state': 10, 'splitter': 'best'}   |            0.75     |            0.625    |            0.861111 |            0.694444 |            0.861111 |          0.758333 |        0.0927961 |                 3 |\n",
            "|      0.00310411 |    0.000665973 |       0.000600147 |      0.000490018 | entropy           |                   |                   42 | random           | {'criterion': 'entropy', 'max_depth': None, 'random_state': 42, 'splitter': 'random'} |            0.666667 |            0.736111 |            0.708333 |            0.736111 |            0.694444 |          0.708333 |        0.0263523 |                15 |\n",
            "|      0.00686984 |    0.00171679  |       0.00150127  |      0.00134048  | entropy           |                   |                   42 | best             | {'criterion': 'entropy', 'max_depth': None, 'random_state': 42, 'splitter': 'best'}   |            0.708333 |            0.666667 |            0.888889 |            0.722222 |            0.861111 |          0.769444 |        0.088541  |                 1 |\n",
            "|      0.0019762  |    0.000247718 |       0.000352907 |      0.000438555 | entropy           |                 5 |                   10 | random           | {'criterion': 'entropy', 'max_depth': 5, 'random_state': 10, 'splitter': 'random'}    |            0.625    |            0.652778 |            0.680556 |            0.708333 |            0.75     |          0.683333 |        0.0433903 |                20 |\n",
            "|      0.00921502 |    0.00131195  |       0.00118852  |      0.000360136 | entropy           |                 5 |                   10 | best             | {'criterion': 'entropy', 'max_depth': 5, 'random_state': 10, 'splitter': 'best'}      |            0.75     |            0.666667 |            0.847222 |            0.680556 |            0.833333 |          0.755556 |        0.0748455 |                 5 |\n",
            "|      0.0021266  |    0.000347166 |       0.000494957 |      0.000251089 | entropy           |                 5 |                   42 | random           | {'criterion': 'entropy', 'max_depth': 5, 'random_state': 42, 'splitter': 'random'}    |            0.625    |            0.666667 |            0.708333 |            0.694444 |            0.680556 |          0.675    |        0.028599  |                21 |\n",
            "|      0.00619359 |    0.000643134 |       0.000354338 |      0.000241726 | entropy           |                 5 |                   42 | best             | {'criterion': 'entropy', 'max_depth': 5, 'random_state': 42, 'splitter': 'best'}      |            0.708333 |            0.652778 |            0.833333 |            0.680556 |            0.833333 |          0.741667 |        0.0768797 |                 7 |\n",
            "|      0.00297699 |    0.000383261 |       0.000203514 |      0.000249257 | entropy           |                10 |                   10 | random           | {'criterion': 'entropy', 'max_depth': 10, 'random_state': 10, 'splitter': 'random'}   |            0.722222 |            0.694444 |            0.805556 |            0.638889 |            0.680556 |          0.708333 |        0.0555556 |                15 |\n",
            "|      0.00608397 |    0.00015607  |       0.000799417 |      0.000399712 | entropy           |                10 |                   10 | best             | {'criterion': 'entropy', 'max_depth': 10, 'random_state': 10, 'splitter': 'best'}     |            0.75     |            0.625    |            0.861111 |            0.694444 |            0.861111 |          0.758333 |        0.0927961 |                 3 |\n",
            "|      0.00279994 |    0.000335754 |       0.000601149 |      0.000490843 | entropy           |                10 |                   42 | random           | {'criterion': 'entropy', 'max_depth': 10, 'random_state': 42, 'splitter': 'random'}   |            0.666667 |            0.736111 |            0.708333 |            0.736111 |            0.694444 |          0.708333 |        0.0263523 |                15 |\n",
            "|      0.00722733 |    0.00169707  |       0.000698042 |      0.000208282 | entropy           |                10 |                   42 | best             | {'criterion': 'entropy', 'max_depth': 10, 'random_state': 42, 'splitter': 'best'}     |            0.708333 |            0.666667 |            0.888889 |            0.722222 |            0.861111 |          0.769444 |        0.088541  |                 1 |\n",
            "|      0.0022357  |    0.000239931 |       0.000516462 |      7.84987e-05 | gini              |                   |                   10 | random           | {'criterion': 'gini', 'max_depth': None, 'random_state': 10, 'splitter': 'random'}    |            0.722222 |            0.708333 |            0.75     |            0.75     |            0.708333 |          0.727778 |        0.0188398 |                13 |\n",
            "|      0.00514936 |    0.000318129 |       0.000402498 |      0.000376089 | gini              |                   |                   10 | best             | {'criterion': 'gini', 'max_depth': None, 'random_state': 10, 'splitter': 'best'}      |            0.708333 |            0.75     |            0.791667 |            0.694444 |            0.763889 |          0.741667 |        0.0357892 |                 7 |\n",
            "|      0.00236177 |    0.000261112 |       0.000448036 |      0.000398082 | gini              |                   |                   42 | random           | {'criterion': 'gini', 'max_depth': None, 'random_state': 42, 'splitter': 'random'}    |            0.736111 |            0.736111 |            0.722222 |            0.694444 |            0.777778 |          0.733333 |        0.0269316 |                10 |\n",
            "|      0.00540242 |    0.000489418 |       0.000399971 |      0.000489863 | gini              |                   |                   42 | best             | {'criterion': 'gini', 'max_depth': None, 'random_state': 42, 'splitter': 'best'}      |            0.694444 |            0.694444 |            0.791667 |            0.708333 |            0.736111 |          0.725    |        0.0366414 |                14 |\n",
            "|      0.00200028 |    6.28991e-07 |       0           |      0           | gini              |                 5 |                   10 | random           | {'criterion': 'gini', 'max_depth': 5, 'random_state': 10, 'splitter': 'random'}       |            0.638889 |            0.708333 |            0.694444 |            0.736111 |            0.666667 |          0.688889 |        0.033564  |                19 |\n",
            "|      0.0037982  |    0.000399924 |       0.00060029  |      0.000490135 | gini              |                 5 |                   10 | best             | {'criterion': 'gini', 'max_depth': 5, 'random_state': 10, 'splitter': 'best'}         |            0.680556 |            0.652778 |            0.736111 |            0.680556 |            0.611111 |          0.672222 |        0.0408248 |                23 |\n",
            "|      0.00220017 |    0.00040172  |       0.000400591 |      0.000490622 | gini              |                 5 |                   42 | random           | {'criterion': 'gini', 'max_depth': 5, 'random_state': 42, 'splitter': 'random'}       |            0.652778 |            0.583333 |            0.694444 |            0.625    |            0.680556 |          0.647222 |        0.0398686 |                24 |\n",
            "|      0.00399952 |    1.14242e-06 |       0.000400066 |      0.000489979 | gini              |                 5 |                   42 | best             | {'criterion': 'gini', 'max_depth': 5, 'random_state': 42, 'splitter': 'best'}         |            0.680556 |            0.611111 |            0.777778 |            0.680556 |            0.625    |          0.675    |        0.0586631 |                21 |\n",
            "|      0.00279894 |    0.00040002  |       0.000200081 |      0.000400162 | gini              |                10 |                   10 | random           | {'criterion': 'gini', 'max_depth': 10, 'random_state': 10, 'splitter': 'random'}      |            0.777778 |            0.708333 |            0.75     |            0.75     |            0.708333 |          0.738889 |        0.0269316 |                 9 |\n",
            "|      0.00560036 |    0.000489804 |       0.000600052 |      0.00048994  | gini              |                10 |                   10 | best             | {'criterion': 'gini', 'max_depth': 10, 'random_state': 10, 'splitter': 'best'}        |            0.708333 |            0.75     |            0.805556 |            0.694444 |            0.791667 |          0.75     |        0.0439205 |                 6 |\n",
            "|      0.00280042 |    0.000400162 |       0.000400066 |      0.000489979 | gini              |                10 |                   42 | random           | {'criterion': 'gini', 'max_depth': 10, 'random_state': 42, 'splitter': 'random'}      |            0.75     |            0.736111 |            0.708333 |            0.694444 |            0.777778 |          0.733333 |        0.0296586 |                10 |\n",
            "|      0.00560055 |    0.000489862 |       0.000400066 |      0.000489979 | gini              |                10 |                   42 | best             | {'criterion': 'gini', 'max_depth': 10, 'random_state': 42, 'splitter': 'best'}        |            0.694444 |            0.694444 |            0.805556 |            0.708333 |            0.763889 |          0.733333 |        0.0442705 |                10 |\n",
            "+-----------------+----------------+-------------------+------------------+-------------------+-------------------+----------------------+------------------+---------------------------------------------------------------------------------------+---------------------+---------------------+---------------------+---------------------+---------------------+-------------------+------------------+-------------------+\n",
            "Melhores parâmetros encontrados:  {'criterion': 'entropy', 'max_depth': None, 'random_state': 42, 'splitter': 'best'}\n"
          ]
        }
      ],
      "source": [
        "# Usando o GridSearch para buscar os melhores parâmetros para nosso modelo\n",
        "from sklearn.model_selection import train_test_split, GridSearchCV\n",
        "\n",
        "# Separando da base original uma base de validação\n",
        "X, X_val, y, y_val = train_test_split(X,y, test_size=0.2, random_state=42, stratify=y)\n",
        "\n",
        "# Definindo a técnica a ser utilizada\n",
        "clf = DecisionTreeClassifier()\n",
        "\n",
        "# parâmetros que o Gridsearch utilizará em sua busca\n",
        "parameters = [{'criterion':['entropy', 'gini'], 'splitter': ['random', 'best'], 'random_state': [10,42], \n",
        "               'max_depth':[None, 5, 10]}]\n",
        "\n",
        "# Execução do Gridsearch \n",
        "gs=GridSearchCV(clf, parameters, scoring='accuracy', cv=5, n_jobs=-1)\n",
        "gs.fit(X_val, y_val)\n",
        "\n",
        "# Mostrando a tabela de resultados do GridSearch (opcional)\n",
        "from tabulate import tabulate\n",
        "import pandas as pd\n",
        "df=gs.cv_results_\n",
        "print(tabulate(df, headers='keys', tablefmt='psql'))\n",
        "print(\"Melhores parâmetros encontrados: \", gs.best_params_)\n",
        "\n",
        "# Recuperando os melhores resultados\n",
        "clf=gs.best_estimator_\n"
      ]
    },
    {
      "cell_type": "markdown",
      "metadata": {
        "id": "2kaFsbT3plb4"
      },
      "source": []
    },
    {
      "cell_type": "markdown",
      "metadata": {
        "id": "GoHd_-t7ddK8"
      },
      "source": [
        "Neste ponto definimos a técnica de Machine Learning a ser utilizada e treinamos o modelo usando Validação Cruzada. No exemplo, um classificador do tipo àrvode de Decisão. Importante destacar que há no sklearn outros parâmetros do KNN que podemos explorar na busca por um modelo robusto. \n",
        "\n",
        "Observer que, diferente do HOLDOUT, não usamos a função *fit()* e sim *model_selection.cross_val_score()*. Esta função irá treinar T modelos. A cada iteração treina usando T-1 pastas e testa com uma delas. Troca a pasta de teste a cada iteração. Ao final fornece como resultado acurácia média + desvio padrão.\n",
        "\n",
        "OBS: protocolo muito mais robusto que o HOLDOUT, pois cada instância do problema será teste em alguma iteração."
      ]
    },
    {
      "cell_type": "code",
      "execution_count": 4,
      "metadata": {
        "id": "5sGXRIInYuUx"
      },
      "outputs": [],
      "source": [
        "\n",
        "# Usando a validação cruzada com 5 folds neste exemplo.\n",
        "T=5 # número de pastas ou folds\n",
        "result = model_selection.cross_val_score(clf, X, y, cv=T)\n"
      ]
    },
    {
      "cell_type": "markdown",
      "metadata": {
        "id": "mJpnX6Ase_FW"
      },
      "source": [
        "Avaliação do modelo abaixo:\n",
        "\n",
        "- A variável *result* que criamos anteriormente já tem a taxa de acerto média e desvio padrão calculadas pela função *model_selection.cross_val_score()*.\n",
        "\n",
        "- A função *model_selection.cross_val_predict()* retorna a classe para cada exemplo de teste.\n",
        "\n",
        "- A função *model_selection.cross_val_predict()* com parâmetro '*method=predict_proba*' retorna a probabilidade de cada classe para cada exemplo de teste.\n",
        "\n",
        "Considerando tp=true positivive, tn=true negative, fp=false positive, fn=false negative.\n",
        "\n",
        "- A função *precision_score()*: calcula tp / (tp + fp)\n",
        "\n",
        "- A função *recall_score()* calcula: tp / (tp + fn)\n",
        "\n",
        "- A função *f1_score()* calcula a média harmônica entre *precision* e *recall*.\n",
        "\n",
        "- A função *confusion_matrix()* recebe como entrada os rótulos do teste (y_test) e a predição do modelo (y_pred). Ela retorna uma matriz CxC onde C é a quandidade de classes. No exemplo C=10, logo uma matriz 10x10 onde na diagonal temos os acertos e nas demais posições as confusões entre as classes do problema. A matriz de confusão é usada para avaliar classificador apenas e muito importante para analisarmos os erros do nosso modelo (ou hipótese de solução para o problema).  \n"
      ]
    },
    {
      "cell_type": "code",
      "execution_count": 5,
      "metadata": {
        "colab": {
          "base_uri": "https://localhost:8080/"
        },
        "id": "_vN1HK85emfw",
        "outputId": "8437a8e2-4049-4e91-902c-f2cae40101e1"
      },
      "outputs": [
        {
          "name": "stdout",
          "output_type": "stream",
          "text": [
            "\n",
            "Cross Validation Results 5 folds:\n",
            "Mean Accuracy: 0.86360\n",
            "Mean Std: 0.01733\n",
            "Precision = 0.864 \n",
            "Recall = 0.864 \n",
            "F1 = 0.864 \n",
            "Primeira instância na base de teste foi considerada como da classe: 1\n",
            "Probabilidade de cada classe para a primeira instância:  [0. 1. 0. 0. 0. 0. 0. 0. 0. 0.]\n",
            "Matriz de Confusão:\n",
            "[[135   0   0   0   3   1   1   0   0   2]\n",
            " [  0 125   5   1   1   4   2   2   3   3]\n",
            " [  0   4 124   5   1   1   1   2   4   0]\n",
            " [  0   7   2 121   0   4   3   1   3   5]\n",
            " [  0   5   0   0 129   4   1   2   3   1]\n",
            " [  1   5   1   3   4 119   2   4   2   4]\n",
            " [  0   0   1   0   2   4 135   0   3   0]\n",
            " [  1   4   2   0   5   0   0 125   5   1]\n",
            " [  1   5   2   6   3   0   0   3 110   9]\n",
            " [  5   2   1   5   1   2   2   3   5 118]]\n"
          ]
        }
      ],
      "source": [
        "\n",
        "# Mostrando a acurácia média e desvio padrão.\n",
        "print(\"\\nCross Validation Results %d folds:\" % T)\n",
        "print(\"Mean Accuracy: %.5f\" % result.mean())\n",
        "print(\"Mean Std: %.5f\" % result.std())\n",
        "\n",
        "# Calculando a predição para cada exemplo de teste\n",
        "y_pred = model_selection.cross_val_predict(clf, X, y, cv=T)\n",
        "\n",
        "# Calculando para cada instância de teste a probabilidade de cada classe\n",
        "predicted_proba=model_selection.cross_val_predict(clf, X, y, cv=T, method='predict_proba')\n",
        "\n",
        "# Calculando a precisão na base de teste\n",
        "precision=precision_score(y, y_pred, average='weighted')\n",
        "print(\"Precision = %.3f \" % precision)\n",
        "\n",
        "# Calculando a revocação na base de teste\n",
        "recall=recall_score(y, y_pred, average='weighted')\n",
        "print(\"Recall = %.3f \" % recall)\n",
        "\n",
        "# Calculando f1 na base de teste\n",
        "f1=f1_score(y, y_pred, average='weighted')\n",
        "print(\"F1 = %.3f \" % f1)\n",
        "\n",
        "# Exemplo mostrando o resultado previsto para a primeira instância de teste\n",
        "print(\"Primeira instância na base de teste foi considerada como da classe: %d\" % y_pred[0])\n",
        "\n",
        "# Exemplo abaixo mostrando para a primeira instância de teste a probabilidade de cada classe\n",
        "print(\"Probabilidade de cada classe para a primeira instância: \", predicted_proba[0])\n",
        "\n",
        "# Calculando a matriz de confusão\n",
        "print(\"Matriz de Confusão:\")\n",
        "matrix = confusion_matrix(y, y_pred)\n",
        "print(matrix)\n",
        "\n",
        "# salvando o modelo \n",
        "from joblib import dump, load\n",
        "with open(\"Tree.mod\", 'wb') as fo:  \n",
        "    dump(clf, fo)"
      ]
    },
    {
      "cell_type": "markdown",
      "metadata": {
        "id": "lMgRPNIMekfU"
      },
      "source": []
    }
  ],
  "metadata": {
    "colab": {
      "provenance": []
    },
    "kernelspec": {
      "display_name": "base",
      "language": "python",
      "name": "python3"
    },
    "language_info": {
      "codemirror_mode": {
        "name": "ipython",
        "version": 3
      },
      "file_extension": ".py",
      "mimetype": "text/x-python",
      "name": "python",
      "nbconvert_exporter": "python",
      "pygments_lexer": "ipython3",
      "version": "3.11.5"
    }
  },
  "nbformat": 4,
  "nbformat_minor": 0
}
