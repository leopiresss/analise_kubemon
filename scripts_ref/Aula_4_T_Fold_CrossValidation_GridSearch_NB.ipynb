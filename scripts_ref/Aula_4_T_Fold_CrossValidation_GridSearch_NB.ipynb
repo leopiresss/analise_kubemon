{
  "nbformat": 4,
  "nbformat_minor": 0,
  "metadata": {
    "colab": {
      "provenance": []
    },
    "kernelspec": {
      "name": "python3",
      "display_name": "Python 3"
    }
  },
  "cells": [
    {
      "cell_type": "markdown",
      "source": [
        "Neste exemplo treinamos e avaliamos um modelo preditivo usando **T-fold-CrossValidation**, ou Validação Cruzada com T Pastas\n",
        "\n",
        "- técnica de aprendizagem usada: Naive Bayes\n",
        "- tarefa supervisionada: classificação de vinhos\n",
        "- métricas de avaliação: taxa de acerto, precisão, revocação, f1 e matriz de confusão\n",
        "\n",
        "Importando os recursos necessários:\n",
        "- numpy: biblioteca numérica\n",
        "- sklearn: biblioteca de machine learning, as métricas de avaliação e o model_selection que nos permite executar validação cruzada"
      ],
      "metadata": {
        "id": "XxjDrcRJYyA2"
      }
    },
    {
      "cell_type": "markdown",
      "source": [],
      "metadata": {
        "id": "49-l_ZQxiK_K"
      }
    },
    {
      "cell_type": "code",
      "metadata": {
        "id": "SmS-tOd6u9fO"
      },
      "source": [
        "# Importa bibliotecas necessárias \n",
        "import numpy as np\n",
        "from sklearn.naive_bayes import GaussianNB\n",
        "from sklearn import model_selection\n",
        "from sklearn.metrics import confusion_matrix, precision_score, recall_score, f1_score\n",
        "from sklearn.datasets import load_wine"
      ],
      "execution_count": 7,
      "outputs": []
    },
    {
      "cell_type": "markdown",
      "source": [
        "Carregando a base de dados do problema, representada aqui por X e y, onde:\n",
        "- X: array contendo N instâncias com M atributos (atributos de entrada do problema)\n",
        "- y: array contendo o rótulo (atributo alvo) de cada instância em X\n"
      ],
      "metadata": {
        "id": "LuQLGeQNWpME"
      }
    },
    {
      "cell_type": "code",
      "source": [
        "# Neste exemplo a base de dados é composta por 178 instâncias \n",
        "# e cada instância é representada por um vetor de 13 atributos\n",
        "\n",
        "X, y = load_wine(return_X_y=True)\n",
        "print(\"Formato de X: \", X.shape)\n",
        "print(\"Formato de y: \", y.shape)\n",
        "\n"
      ],
      "metadata": {
        "colab": {
          "base_uri": "https://localhost:8080/"
        },
        "id": "ypO-BKeSWlhU",
        "outputId": "74497474-4473-43d0-e6be-7f72edd444ed"
      },
      "execution_count": 8,
      "outputs": [
        {
          "output_type": "stream",
          "name": "stdout",
          "text": [
            "Formato de X:  (178, 13)\n",
            "Formato de y:  (178,)\n"
          ]
        }
      ]
    },
    {
      "cell_type": "code",
      "source": [
        "# Usando o GridSearch para buscar os melhores parâmetros para nosso modelo\n",
        "from sklearn.model_selection import train_test_split, GridSearchCV\n",
        "\n",
        "# Separando da base original uma base de validação\n",
        "X, X_val, y, y_val = train_test_split(X,y, test_size=0.2, random_state=42, stratify=y)\n",
        "\n",
        "# Definindo a técnica a ser utilizada\n",
        "clf = GaussianNB()\n",
        "\n",
        "# parâmetros que o Gridsearch utilizará em sua busca\n",
        "parameters = [{'var_smoothing':[1e-09, 1e-03, 1e-06]}]\n",
        "\n",
        "# Execução do Gridsearch \n",
        "gs=GridSearchCV(clf, parameters, scoring='accuracy', cv=5, n_jobs=-1)\n",
        "gs.fit(X_val, y_val)\n",
        "\n",
        "# Mostrando a tabela de resultados do GridSearch (opcional)\n",
        "from tabulate import tabulate\n",
        "import pandas as pd\n",
        "df=gs.cv_results_\n",
        "print(tabulate(df, headers='keys', tablefmt='psql'))\n",
        "print(\"Melhores parâmetros encontrados: \", gs.best_params_)\n",
        "\n",
        "# Recuperando os melhores resultados\n",
        "clf=gs.best_estimator_\n"
      ],
      "metadata": {
        "colab": {
          "base_uri": "https://localhost:8080/"
        },
        "id": "1y1XJefTgljA",
        "outputId": "f6ff57ab-fd32-454a-efd4-4e5460f6a23e"
      },
      "execution_count": 9,
      "outputs": [
        {
          "output_type": "stream",
          "name": "stdout",
          "text": [
            "+-----------------+----------------+-------------------+------------------+-----------------------+--------------------------+---------------------+---------------------+---------------------+---------------------+---------------------+-------------------+------------------+-------------------+\n",
            "|   mean_fit_time |   std_fit_time |   mean_score_time |   std_score_time |   param_var_smoothing | params                   |   split0_test_score |   split1_test_score |   split2_test_score |   split3_test_score |   split4_test_score |   mean_test_score |   std_test_score |   rank_test_score |\n",
            "|-----------------+----------------+-------------------+------------------+-----------------------+--------------------------+---------------------+---------------------+---------------------+---------------------+---------------------+-------------------+------------------+-------------------|\n",
            "|      0.0019207  |    0.000773289 |        0.00194259 |      0.00158506  |                 1e-09 | {'var_smoothing': 1e-09} |               0.875 |            0.857143 |            0.857143 |            1        |            1        |          0.917857 |        0.0673856 |                 2 |\n",
            "|      0.00389371 |    0.00513579  |        0.00106802 |      7.62073e-05 |                 0.001 | {'var_smoothing': 0.001} |               0.875 |            0.857143 |            0.571429 |            0.428571 |            0.857143 |          0.717857 |        0.183642  |                 3 |\n",
            "|      0.00256228 |    0.00159531  |        0.00110044 |      7.00505e-05 |                 1e-06 | {'var_smoothing': 1e-06} |               0.875 |            1        |            1        |            0.857143 |            1        |          0.946429 |        0.0658539 |                 1 |\n",
            "+-----------------+----------------+-------------------+------------------+-----------------------+--------------------------+---------------------+---------------------+---------------------+---------------------+---------------------+-------------------+------------------+-------------------+\n",
            "Melhores parâmetros encontrados:  {'var_smoothing': 1e-06}\n"
          ]
        }
      ]
    },
    {
      "cell_type": "markdown",
      "source": [],
      "metadata": {
        "id": "2kaFsbT3plb4"
      }
    },
    {
      "cell_type": "markdown",
      "source": [
        "Neste ponto definimos a técnica de Machine Learning a ser utilizada e treinamos o modelo usando Validação Cruzada. No exemplo, um classificador do tipo Naive Bayes.  \n",
        "\n",
        "Observer que, diferente do HOLDOUT, não usamos a função *fit()* e sim *model_selection.cross_val_score()*. Esta função irá treinar T modelos. A cada iteração treina usando T-1 pastas e testa com uma delas. Troca a pasta de teste a cada iteração. Ao final fornece como resultado acurácia média + desvio padrão.\n",
        "\n",
        "OBS: protocolo muito mais robusto que o HOLDOUT, pois cada instância do problema será teste em alguma iteração."
      ],
      "metadata": {
        "id": "GoHd_-t7ddK8"
      }
    },
    {
      "cell_type": "code",
      "source": [
        "\n",
        "# Usando a validação cruzada com 5 folds neste exemplo.\n",
        "T=5 # número de pastas ou folds\n",
        "result = model_selection.cross_val_score(clf, X, y, cv=T)\n"
      ],
      "metadata": {
        "id": "5sGXRIInYuUx"
      },
      "execution_count": 10,
      "outputs": []
    },
    {
      "cell_type": "markdown",
      "source": [
        "Avaliação do modelo abaixo:\n",
        "\n",
        "- A variável *result* que criamos anteriormente já tem a taxa de acerto média e desvio padrão calculadas pela função *model_selection.cross_val_score()*.\n",
        "\n",
        "- A função *model_selection.cross_val_predict()* retorna a classe para cada exemplo de teste.\n",
        "\n",
        "- A função *model_selection.cross_val_predict()* com parâmetro '*method=predict_proba*' retorna a probabilidade de cada classe para cada exemplo de teste.\n",
        "\n",
        "Considerando tp=true positivive, tn=true negative, fp=false positive, fn=false negative.\n",
        "\n",
        "- A função *precision_score()*: calcula tp / (tp + fp)\n",
        "\n",
        "- A função *recall_score()* calcula: tp / (tp + fn)\n",
        "\n",
        "- A função *f1_score()* calcula a média harmônica entre *precision* e *recall*.\n",
        "\n",
        "- A função *confusion_matrix()* recebe como entrada os rótulos do teste (y_test) e a predição do modelo (y_pred). Ela retorna uma matriz CxC onde C é a quandidade de classes. No exemplo C=3, logo uma matriz 3x3 onde na diagonal temos os acertos e nas demais posições as confusões entre as classes do problema. A matriz de confusão é usada para avaliar classificador apenas e muito importante para analisarmos os erros do nosso modelo (ou hipótese de solução para o problema).  \n"
      ],
      "metadata": {
        "id": "mJpnX6Ase_FW"
      }
    },
    {
      "cell_type": "code",
      "source": [
        "\n",
        "# Mostrando a acurácia média e desvio padrão.\n",
        "print(\"\\nCross Validation Results %d folds:\" % T)\n",
        "print(\"Mean Accuracy: %.5f\" % result.mean())\n",
        "print(\"Mean Std: %.5f\" % result.std())\n",
        "\n",
        "# Calculando a predição para cada exemplo de teste\n",
        "y_pred = model_selection.cross_val_predict(clf, X, y, cv=T)\n",
        "\n",
        "# Calculando para cada instância de teste a probabilidade de cada classe\n",
        "predicted_proba=model_selection.cross_val_predict(clf, X, y, cv=T, method='predict_proba')\n",
        "\n",
        "# Calculando a precisão na base de teste\n",
        "precision=precision_score(y, y_pred, average='weighted')\n",
        "print(\"Precision = %.3f \" % precision)\n",
        "\n",
        "# Calculando a revocação na base de teste\n",
        "recall=recall_score(y, y_pred, average='weighted')\n",
        "print(\"Recall = %.3f \" % recall)\n",
        "\n",
        "# Calculando f1 na base de teste\n",
        "f1=f1_score(y, y_pred, average='weighted')\n",
        "print(\"F1 = %.3f \" % f1)\n",
        "\n",
        "# Exemplo mostrando o resultado previsto para a primeira instância de teste\n",
        "print(\"Primeira instância na base de teste foi considerada como da classe: %d\" % y_pred[0])\n",
        "\n",
        "# Exemplo abaixo mostrando para a primeira instância de teste a probabilidade de cada classe\n",
        "print(\"Probabilidade de cada classe para a primeira instância: \", predicted_proba[0])\n",
        "\n",
        "# Calculando a matriz de confusão\n",
        "print(\"Matriz de Confusão:\")\n",
        "matrix = confusion_matrix(y, y_pred)\n",
        "print(matrix)\n",
        "\n",
        "# salvando o modelo \n",
        "from joblib import dump, load\n",
        "with open(\"NB.mod\", 'wb') as fo:  \n",
        "    dump(clf, fo)"
      ],
      "metadata": {
        "colab": {
          "base_uri": "https://localhost:8080/"
        },
        "id": "_vN1HK85emfw",
        "outputId": "2846feaf-2c7e-479f-a7c3-f01d467f6240"
      },
      "execution_count": 12,
      "outputs": [
        {
          "output_type": "stream",
          "name": "stdout",
          "text": [
            "\n",
            "Cross Validation Results 5 folds:\n",
            "Mean Accuracy: 0.97192\n",
            "Mean Std: 0.03440\n",
            "Precision = 0.973 \n",
            "Recall = 0.972 \n",
            "F1 = 0.972 \n",
            "Primeira instância na base de teste foi considerada como da classe: 0\n",
            "Probabilidade de cada classe para a primeira instância:  [9.99376150e-01 6.23849708e-04 4.07558723e-11]\n",
            "Matriz de Confusão:\n",
            "[[46  1  0]\n",
            " [ 0 54  3]\n",
            " [ 0  0 38]]\n"
          ]
        }
      ]
    },
    {
      "cell_type": "markdown",
      "source": [],
      "metadata": {
        "id": "lMgRPNIMekfU"
      }
    }
  ]
}