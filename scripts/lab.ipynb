{
 "cells": [
  {
   "cell_type": "code",
   "execution_count": 5,
   "id": "bdbe0132",
   "metadata": {},
   "outputs": [
    {
     "name": "stdout",
     "output_type": "stream",
     "text": [
      "['mean_process_net_tx_bytes', 'mean_container_net_tx_packets', 'mean_os_mem_pgfree', 'mean_process_net_rx_bytes', 'mean_container_mem_active_anon', 'mean_os_cpu_interrupts', 'mean_process_disk_read_count', 'mean_os_disk_write_merge', 'mean_os_net_packets_recv', 'mean_os_disk_read_ticks', 'mean_container_cpu_system', 'mean_process_mem_resident', 'mean_os_disk_io_ticks', 'mean_process_disk_read_chars', 'mean_process_cpu_system', 'mean_process_disk_write_count', 'mean_container_mem_inactive_file', 'mean_os_disk_write_io', 'mean_os_mem_pgpgin', 'mean_process_mem_shared', 'mean_container_cpu_user', 'mean_container_net_rx_bytes', 'mean_process_mem_data', 'mean_process_disk_write_bytes', 'mean_os_mem_nr_inactive_file', 'mean_os_cpu_idle', 'mean_os_net_bytes_sent', 'mean_os_disk_time_in_queue', 'mean_os_net_bytes_recv', 'mean_os_cpu_soft_interrupts', 'mean_os_cpu_softirq', 'mean_container_mem_pgpgin', 'mean_os_cpu_user', 'mean_os_cpu_system', 'mean_os_mem_pgfault', 'mean_os_mem_pgpgout', 'mean_container_net_tx_bytes', 'mean_container_mem_inactive_anon', 'mean_os_cpu_ctx_switches', 'mean_container_mem_rss', 'mean_container_mem_pgfault', 'mean_os_mem_nr_active_file', 'mean_os_disk_write_sectors', 'mean_process_disk_write_chars', 'mean_container_net_rx_packets', 'mean_container_mem_active_file', 'mean_os_mem_nr_inactive_anon', 'mean_os_mem_nr_mapped', 'mean_process_net_rx_packets', 'mean_container_mem_mapped_file', 'mean_process_net_tx_packets', 'mean_os_net_packets_sent']\n",
      "['mean_process_net_tx_bytes', 'mean_container_net_tx_packets', 'mean_os_mem_pgfree', 'mean_process_net_rx_bytes', 'mean_container_mem_active_anon', 'mean_os_cpu_interrupts', 'mean_process_disk_read_count', 'mean_os_disk_write_merge', 'mean_os_net_packets_recv', 'mean_os_disk_read_ticks', 'mean_container_cpu_system', 'mean_process_mem_resident', 'mean_os_disk_io_ticks', 'mean_process_disk_read_chars', 'mean_process_cpu_system', 'mean_process_disk_write_count', 'mean_container_mem_inactive_file', 'mean_os_disk_write_io', 'mean_os_mem_pgpgin', 'mean_process_mem_shared', 'mean_container_cpu_user', 'mean_container_net_rx_bytes', 'mean_process_mem_data', 'mean_process_disk_write_bytes', 'mean_os_mem_nr_inactive_file', 'mean_os_cpu_idle', 'mean_os_net_bytes_sent', 'mean_os_disk_time_in_queue', 'mean_os_net_bytes_recv', 'mean_os_cpu_soft_interrupts', 'mean_os_cpu_softirq', 'mean_container_mem_pgpgin', 'mean_os_cpu_user', 'mean_os_cpu_system', 'mean_os_mem_pgfault', 'mean_os_mem_pgpgout', 'mean_container_net_tx_bytes', 'mean_container_mem_inactive_anon', 'mean_os_cpu_ctx_switches', 'mean_container_mem_rss', 'mean_container_mem_pgfault', 'mean_os_mem_nr_active_file', 'mean_os_disk_write_sectors', 'mean_process_disk_write_chars', 'mean_container_net_rx_packets', 'mean_container_mem_active_file', 'mean_os_mem_nr_inactive_anon', 'mean_os_mem_nr_mapped', 'mean_process_net_rx_packets', 'mean_container_mem_mapped_file', 'mean_process_net_tx_packets', 'mean_os_net_packets_sent']\n"
     ]
    }
   ],
   "source": [
    "import pickle\n",
    "with open('../dataset/svm.pkl', 'rb') as f:\n",
    "        datasets = pickle.load(f)\n",
    "        print(datasets['features_ganho_informacao'])\n",
    "        print(datasets['features_ganho_informacao'])            #if 'features_ganho_de_informacao' not in datasets: \n",
    "        #    raise ValueError(\"O dataset não contém 'features_ganho_informacao'. Execute a análise de ganho de informação primeiro.\")\n",
    "        datasets['X_train'] = datasets['X_train'][datasets['features_ganho_informacao']]\n",
    "        datasets['X_test'] = datasets['X_test'][datasets['features_ganho_informacao']]\n",
    "        datasets['X_val'] = datasets['X_val'][datasets['features_ganho_informacao']]\n",
    "        datasets['y_train'] = datasets['y_train']   \n",
    "        datasets['y_test'] = datasets['y_test']\n",
    "        datasets['y_val'] = datasets['y_val']\n",
    "        "
   ]
  },
  {
   "cell_type": "code",
   "execution_count": null,
   "id": "f2b63b59",
   "metadata": {},
   "outputs": [
    {
     "name": "stdout",
     "output_type": "stream",
     "text": [
      "['mean_process_net_tx_bytes', 'mean_container_net_tx_packets', 'mean_os_mem_pgfree', 'mean_process_net_rx_bytes', 'mean_container_mem_active_anon', 'mean_os_cpu_interrupts', 'mean_process_disk_read_count', 'mean_os_disk_write_merge', 'mean_os_net_packets_recv', 'mean_os_disk_read_ticks', 'mean_container_cpu_system', 'mean_process_mem_resident', 'mean_os_disk_io_ticks', 'mean_process_disk_read_chars', 'mean_process_cpu_system', 'mean_process_disk_write_count', 'mean_container_mem_inactive_file', 'mean_os_disk_write_io', 'mean_os_mem_pgpgin', 'mean_process_mem_shared', 'mean_container_cpu_user', 'mean_container_net_rx_bytes', 'mean_process_mem_data', 'mean_process_disk_write_bytes', 'mean_os_mem_nr_inactive_file', 'mean_os_cpu_idle', 'mean_os_net_bytes_sent', 'mean_os_disk_time_in_queue', 'mean_os_net_bytes_recv', 'mean_os_cpu_soft_interrupts', 'mean_os_cpu_softirq', 'mean_container_mem_pgpgin', 'mean_os_cpu_user', 'mean_os_cpu_system', 'mean_os_mem_pgfault', 'mean_os_mem_pgpgout', 'mean_container_net_tx_bytes', 'mean_container_mem_inactive_anon', 'mean_os_cpu_ctx_switches', 'mean_container_mem_rss', 'mean_container_mem_pgfault', 'mean_os_mem_nr_active_file', 'mean_os_disk_write_sectors', 'mean_process_disk_write_chars', 'mean_container_net_rx_packets', 'mean_container_mem_active_file', 'mean_os_mem_nr_inactive_anon', 'mean_os_mem_nr_mapped', 'mean_process_net_rx_packets', 'mean_container_mem_mapped_file', 'mean_process_net_tx_packets', 'mean_os_net_packets_sent']\n"
     ]
    }
   ],
   "source": [
    "import lib_analise  \n",
    "import pickle\n",
    "\n",
    "dataset = lib_analise.get_dataset_analise(analise_ganho_de_informacao=True)\n",
    "print(dataset['features_ganho_informacao'])\n",
    "\n"
   ]
  }
 ],
 "metadata": {
  "kernelspec": {
   "display_name": "Python 3",
   "language": "python",
   "name": "python3"
  },
  "language_info": {
   "codemirror_mode": {
    "name": "ipython",
    "version": 3
   },
   "file_extension": ".py",
   "mimetype": "text/x-python",
   "name": "python",
   "nbconvert_exporter": "python",
   "pygments_lexer": "ipython3",
   "version": "3.12.10"
  }
 },
 "nbformat": 4,
 "nbformat_minor": 5
}
