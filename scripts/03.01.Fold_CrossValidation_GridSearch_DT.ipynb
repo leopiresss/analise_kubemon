{
  "cells": [
    {
      "cell_type": "markdown",
      "metadata": {
        "id": "XxjDrcRJYyA2"
      },
      "source": [
        "Neste exemplo treinamos e avaliamos um modelo preditivo usando **T-fold-CrossValidation**, ou Validação Cruzada com T Pastas\n",
        "\n",
        "- técnica de aprendizagem usada: Decision Tree\n",
        "- tarefa supervisionada: classificação de dígitos manuscritos\n",
        "- métricas de avaliação: taxa de acerto, precisão, revocação, f1 e matriz de confusão\n",
        "\n",
        "Importando os recursos necessários:\n",
        "- numpy: biblioteca numérica\n",
        "- sklearn: biblioteca de machine learning, em especial o KNN, as métricas de avaliação e o model_selection que nos permite executar validação cruzada"
      ]
    },
    {
      "cell_type": "code",
      "execution_count": 13,
      "metadata": {
        "id": "SmS-tOd6u9fO"
      },
      "outputs": [
        {
          "name": "stdout",
          "output_type": "stream",
          "text": [
            "Defaulting to user installation because normal site-packages is not writeable\n",
            "Requirement already satisfied: tabulate in c:\\users\\leopi\\appdata\\local\\packages\\pythonsoftwarefoundation.python.3.12_qbz5n2kfra8p0\\localcache\\local-packages\\python312\\site-packages (0.9.0)\n"
          ]
        }
      ],
      "source": [
        "# Importa bibliotecas necessárias \n",
        "!pip install tabulate\n",
        "\n",
        "import numpy as np\n",
        "from sklearn.tree import DecisionTreeClassifier\n",
        "from sklearn import model_selection\n",
        "from sklearn.metrics import confusion_matrix, precision_score, recall_score, f1_score\n",
        "from sklearn.datasets import load_digits"
      ]
    },
    {
      "cell_type": "markdown",
      "metadata": {
        "id": "LuQLGeQNWpME"
      },
      "source": [
        "Carregando a base de dados do problema, representada aqui por X e y, onde:\n",
        "- X: array contendo N instâncias com M atributos (atributos de entrada do problema)\n",
        "- y: array contendo o rótulo (atributo alvo) de cada instância em X\n"
      ]
    },
    {
      "cell_type": "code",
      "execution_count": 16,
      "metadata": {
        "colab": {
          "base_uri": "https://localhost:8080/"
        },
        "id": "ypO-BKeSWlhU",
        "outputId": "d61811ba-1103-4f2e-bd4d-8973b4871e68"
      },
      "outputs": [
        {
          "name": "stdout",
          "output_type": "stream",
          "text": [
            "(32259, 52)\n",
            "(24194, 52)\n",
            "(24195, 52)\n"
          ]
        }
      ],
      "source": [
        "# Neste exemplo a base de dados digits é composto por 1.797 instâncias (N=1.797), imagens de tamanho 8x8\n",
        "# e cada instância é representada por um vetor de 64 atributos (M=64), sendo que cada atributo pode ter um valor entre 0 e 16 (valor do pixel)\n",
        "\n",
        "\n",
        "\n",
        "import lib_analise\n",
        "datasets = lib_analise.get_dataset_analise(analise_ganho_de_informacao=True)\n",
        "X_train = datasets['X_train']\n",
        "X_test = datasets['X_test']\n",
        "X_val = datasets['X_val']\n",
        "\n",
        "print(X_train.shape)\n",
        "print(X_test.shape)\n",
        "print(X_val.shape)\n",
        "\n",
        "y_train = datasets['y_train']\n",
        "y_test = datasets['y_test']\n",
        "y_val = datasets['y_val']\n"
      ]
    },
    {
      "cell_type": "code",
      "execution_count": 17,
      "metadata": {
        "colab": {
          "base_uri": "https://localhost:8080/"
        },
        "id": "1y1XJefTgljA",
        "outputId": "dd77575d-d51d-460a-a73e-5e5011590a91"
      },
      "outputs": [
        {
          "name": "stdout",
          "output_type": "stream",
          "text": [
            "+-----------------+----------------+-------------------+------------------+-------------------+-------------------+----------------------+------------------+---------------------------------------------------------------------------------------+---------------------+---------------------+---------------------+---------------------+---------------------+-------------------+------------------+-------------------+\n",
            "|   mean_fit_time |   std_fit_time |   mean_score_time |   std_score_time | param_criterion   |   param_max_depth |   param_random_state | param_splitter   | params                                                                                |   split0_test_score |   split1_test_score |   split2_test_score |   split3_test_score |   split4_test_score |   mean_test_score |   std_test_score |   rank_test_score |\n",
            "|-----------------+----------------+-------------------+------------------+-------------------+-------------------+----------------------+------------------+---------------------------------------------------------------------------------------+---------------------+---------------------+---------------------+---------------------+---------------------+-------------------+------------------+-------------------|\n",
            "|       0.0714783 |     0.0123762  |        0.00391822 |      0.0019842   | entropy           |                   |                   10 | random           | {'criterion': 'entropy', 'max_depth': None, 'random_state': 10, 'splitter': 'random'} |            0.990081 |            0.990081 |            0.99256  |            0.992147 |            0.991734 |          0.991321 |      0.0010456   |                16 |\n",
            "|       0.439808  |     0.0281844  |        0.00260262 |      0.000797539 | entropy           |                   |                   10 | best             | {'criterion': 'entropy', 'max_depth': None, 'random_state': 10, 'splitter': 'best'}   |            0.9969   |            0.99876  |            0.997313 |            0.997727 |            0.999173 |          0.997975 |      0.000861032 |                 3 |\n",
            "|       0.0716785 |     0.00929288 |        0.00260739 |      0.000588261 | entropy           |                   |                   42 | random           | {'criterion': 'entropy', 'max_depth': None, 'random_state': 42, 'splitter': 'random'} |            0.997107 |            0.997727 |            0.995454 |            0.992767 |            0.990494 |          0.99471  |      0.00271843  |                14 |\n",
            "|       0.442502  |     0.028803   |        0.00280638 |      0.000682925 | entropy           |                   |                   42 | best             | {'criterion': 'entropy', 'max_depth': None, 'random_state': 42, 'splitter': 'best'}   |            0.997313 |            0.99876  |            0.99752  |            0.99752  |            0.998967 |          0.998016 |      0.000698968 |                 1 |\n",
            "|       0.0361659 |     0.00736626 |        0.00265746 |      0.000490992 | entropy           |                 5 |                   10 | random           | {'criterion': 'entropy', 'max_depth': 5, 'random_state': 10, 'splitter': 'random'}    |            0.914238 |            0.917132 |            0.908452 |            0.920438 |            0.883654 |          0.908783 |      0.0131674   |                23 |\n",
            "|       0.361657  |     0.00628374 |        0.00220165 |      0.000247739 | entropy           |                 5 |                   10 | best             | {'criterion': 'entropy', 'max_depth': 5, 'random_state': 10, 'splitter': 'best'}      |            0.99628  |            0.996487 |            0.99504  |            0.99628  |            0.996074 |          0.996032 |      0.000512902 |                10 |\n",
            "|       0.0376725 |     0.00926974 |        0.00231509 |      0.000663996 | entropy           |                 5 |                   42 | random           | {'criterion': 'entropy', 'max_depth': 5, 'random_state': 42, 'splitter': 'random'}    |            0.94069  |            0.930977 |            0.932837 |            0.927051 |            0.931391 |          0.932589 |      0.00448092  |                21 |\n",
            "|       0.367567  |     0.010348   |        0.00329432 |      0.000520693 | entropy           |                 5 |                   42 | best             | {'criterion': 'entropy', 'max_depth': 5, 'random_state': 42, 'splitter': 'best'}      |            0.99628  |            0.996487 |            0.99504  |            0.99628  |            0.996074 |          0.996032 |      0.000512902 |                10 |\n",
            "|       0.0416676 |     0.00379478 |        0.00180464 |      0.000240954 | entropy           |                10 |                   10 | random           | {'criterion': 'entropy', 'max_depth': 10, 'random_state': 10, 'splitter': 'random'}   |            0.956396 |            0.976028 |            0.980781 |            0.982021 |            0.983261 |          0.975697 |      0.00995688  |                20 |\n",
            "|       0.442904  |     0.0321891  |        0.00220041 |      0.000399931 | entropy           |                10 |                   10 | best             | {'criterion': 'entropy', 'max_depth': 10, 'random_state': 10, 'splitter': 'best'}     |            0.9969   |            0.99876  |            0.997313 |            0.99752  |            0.999173 |          0.997933 |      0.00087676  |                 4 |\n",
            "|       0.0358662 |     0.00511721 |        0.00272813 |      0.000550269 | entropy           |                10 |                   42 | random           | {'criterion': 'entropy', 'max_depth': 10, 'random_state': 42, 'splitter': 'random'}   |            0.987601 |            0.984294 |            0.9969   |            0.996074 |            0.989461 |          0.990866 |      0.00488579  |                17 |\n",
            "|       0.402558  |     0.0431639  |        0.00185814 |      0.000544293 | entropy           |                10 |                   42 | best             | {'criterion': 'entropy', 'max_depth': 10, 'random_state': 42, 'splitter': 'best'}     |            0.997313 |            0.998967 |            0.99752  |            0.997313 |            0.998967 |          0.998016 |      0.000779829 |                 1 |\n",
            "|       0.0570991 |     0.00788895 |        0.00303168 |      0.000339088 | gini              |                   |                   10 | random           | {'criterion': 'gini', 'max_depth': None, 'random_state': 10, 'splitter': 'random'}    |            0.993387 |            0.994627 |            0.99194  |            0.988221 |            0.991527 |          0.99194  |      0.00215951  |                15 |\n",
            "|       0.429618  |     0.0512616  |        0.00211568 |      0.00048681  | gini              |                   |                   10 | best             | {'criterion': 'gini', 'max_depth': None, 'random_state': 10, 'splitter': 'best'}      |            0.996694 |            0.998553 |            0.997727 |            0.998553 |            0.997933 |          0.997892 |      0.000684147 |                 5 |\n",
            "|       0.0449965 |     0.00358486 |        0.00250278 |      0.000446629 | gini              |                   |                   42 | random           | {'criterion': 'gini', 'max_depth': None, 'random_state': 42, 'splitter': 'random'}    |            0.996487 |            0.996487 |            0.995867 |            0.99628  |            0.998347 |          0.996694 |      0.000857055 |                 9 |\n",
            "|       0.434109  |     0.0539863  |        0.00201979 |      0.000837011 | gini              |                   |                   42 | best             | {'criterion': 'gini', 'max_depth': None, 'random_state': 42, 'splitter': 'best'}      |            0.9969   |            0.99876  |            0.997727 |            0.997933 |            0.99814  |          0.997892 |      0.000604618 |                 6 |\n",
            "|       0.0326394 |     0.00381101 |        0.00280118 |      0.00116434  | gini              |                 5 |                   10 | random           | {'criterion': 'gini', 'max_depth': 5, 'random_state': 10, 'splitter': 'random'}       |            0.920231 |            0.907006 |            0.876214 |            0.920438 |            0.867948 |          0.898367 |      0.0221625   |                24 |\n",
            "|       0.319067  |     0.0099738  |        0.00222363 |      0.00068727  | gini              |                 5 |                   10 | best             | {'criterion': 'gini', 'max_depth': 5, 'random_state': 10, 'splitter': 'best'}         |            0.994834 |            0.99628  |            0.994627 |            0.996694 |            0.99566  |          0.995619 |      0.000799301 |                13 |\n",
            "|       0.0391255 |     0.00624325 |        0.00300198 |      0.00155044  | gini              |                 5 |                   42 | random           | {'criterion': 'gini', 'max_depth': 5, 'random_state': 42, 'splitter': 'random'}       |            0.900599 |            0.901839 |            0.902459 |            0.920438 |            0.929738 |          0.911015 |      0.0118761   |                22 |\n",
            "|       0.320168  |     0.0143631  |        0.0025023  |      0.000446283 | gini              |                 5 |                   42 | best             | {'criterion': 'gini', 'max_depth': 5, 'random_state': 42, 'splitter': 'best'}         |            0.994834 |            0.99628  |            0.994627 |            0.9969   |            0.99566  |          0.99566  |      0.000857055 |                12 |\n",
            "|       0.0511179 |     0.00817501 |        0.00301576 |      0.00178186  | gini              |                10 |                   10 | random           | {'criterion': 'gini', 'max_depth': 10, 'random_state': 10, 'splitter': 'random'}      |            0.988427 |            0.972308 |            0.980781 |            0.986774 |            0.983054 |          0.982269 |      0.00566157  |                19 |\n",
            "|       0.447201  |     0.0127695  |        0.00216508 |      0.000388861 | gini              |                10 |                   10 | best             | {'criterion': 'gini', 'max_depth': 10, 'random_state': 10, 'splitter': 'best'}        |            0.9969   |            0.997107 |            0.997933 |            0.99876  |            0.99814  |          0.997768 |      0.000684147 |                 7 |\n",
            "|       0.0418983 |     0.00554174 |        0.00240278 |      0.000487935 | gini              |                10 |                   42 | random           | {'criterion': 'gini', 'max_depth': 10, 'random_state': 42, 'splitter': 'random'}      |            0.988014 |            0.985121 |            0.99194  |            0.970035 |            0.982641 |          0.98355  |      0.00743335  |                18 |\n",
            "|       0.387141  |     0.00989561 |        0.00160151 |      0.000490024 | gini              |                10 |                   42 | best             | {'criterion': 'gini', 'max_depth': 10, 'random_state': 42, 'splitter': 'best'}        |            0.996487 |            0.997107 |            0.997727 |            0.99814  |            0.99814  |          0.99752  |      0.000640295 |                 8 |\n",
            "+-----------------+----------------+-------------------+------------------+-------------------+-------------------+----------------------+------------------+---------------------------------------------------------------------------------------+---------------------+---------------------+---------------------+---------------------+---------------------+-------------------+------------------+-------------------+\n",
            "Melhores parâmetros encontrados:  {'criterion': 'entropy', 'max_depth': None, 'random_state': 42, 'splitter': 'best'}\n"
          ]
        }
      ],
      "source": [
        "# Usando o GridSearch para buscar os melhores parâmetros para nosso modelo\n",
        "from sklearn.model_selection import train_test_split, GridSearchCV\n",
        "\n",
        "# Separando da base original uma base de validação\n",
        "# X, X_val, y, y_val = train_test_split(X,y, test_size=0.2, random_state=42, stratify=y)\n",
        "\n",
        "# Definindo a técnica a ser utilizada\n",
        "clf = DecisionTreeClassifier()\n",
        "\n",
        "# parâmetros que o Gridsearch utilizará em sua busca\n",
        "parameters = [{'criterion':['entropy', 'gini'], 'splitter': ['random', 'best'], 'random_state': [10,42], \n",
        "               'max_depth':[None, 5, 10]}]\n",
        "\n",
        "# Execução do Gridsearch \n",
        "gs=GridSearchCV(clf, parameters, scoring='accuracy', cv=5, n_jobs=-1)\n",
        "gs.fit(X_val, y_val)\n",
        "\n",
        "# Mostrando a tabela de resultados do GridSearch (opcional)\n",
        "from tabulate import tabulate\n",
        "import pandas as pd\n",
        "df=gs.cv_results_\n",
        "print(tabulate(df, headers='keys', tablefmt='psql'))\n",
        "print(\"Melhores parâmetros encontrados: \", gs.best_params_)\n",
        "\n",
        "# Recuperando os melhores resultados\n",
        "clf=gs.best_estimator_\n"
      ]
    },
    {
      "cell_type": "markdown",
      "metadata": {
        "id": "2kaFsbT3plb4"
      },
      "source": []
    },
    {
      "cell_type": "markdown",
      "metadata": {
        "id": "GoHd_-t7ddK8"
      },
      "source": [
        "Neste ponto definimos a técnica de Machine Learning a ser utilizada e treinamos o modelo usando Validação Cruzada. No exemplo, um classificador do tipo àrvode de Decisão. Importante destacar que há no sklearn outros parâmetros do KNN que podemos explorar na busca por um modelo robusto. \n",
        "\n",
        "Observer que, diferente do HOLDOUT, não usamos a função *fit()* e sim *model_selection.cross_val_score()*. Esta função irá treinar T modelos. A cada iteração treina usando T-1 pastas e testa com uma delas. Troca a pasta de teste a cada iteração. Ao final fornece como resultado acurácia média + desvio padrão.\n",
        "\n",
        "OBS: protocolo muito mais robusto que o HOLDOUT, pois cada instância do problema será teste em alguma iteração."
      ]
    },
    {
      "cell_type": "code",
      "execution_count": 19,
      "metadata": {
        "id": "5sGXRIInYuUx"
      },
      "outputs": [],
      "source": [
        "\n",
        "# Usando a validação cruzada com 5 folds neste exemplo.\n",
        "T=5 # número de pastas ou folds\n",
        "X = X_test\n",
        "y = y_test\n",
        "result = model_selection.cross_val_score(clf, X, y, cv=T)\n"
      ]
    },
    {
      "cell_type": "markdown",
      "metadata": {
        "id": "mJpnX6Ase_FW"
      },
      "source": [
        "Avaliação do modelo abaixo:\n",
        "\n",
        "- A variável *result* que criamos anteriormente já tem a taxa de acerto média e desvio padrão calculadas pela função *model_selection.cross_val_score()*.\n",
        "\n",
        "- A função *model_selection.cross_val_predict()* retorna a classe para cada exemplo de teste.\n",
        "\n",
        "- A função *model_selection.cross_val_predict()* com parâmetro '*method=predict_proba*' retorna a probabilidade de cada classe para cada exemplo de teste.\n",
        "\n",
        "Considerando tp=true positivive, tn=true negative, fp=false positive, fn=false negative.\n",
        "\n",
        "- A função *precision_score()*: calcula tp / (tp + fp)\n",
        "\n",
        "- A função *recall_score()* calcula: tp / (tp + fn)\n",
        "\n",
        "- A função *f1_score()* calcula a média harmônica entre *precision* e *recall*.\n",
        "\n",
        "- A função *confusion_matrix()* recebe como entrada os rótulos do teste (y_test) e a predição do modelo (y_pred). Ela retorna uma matriz CxC onde C é a quandidade de classes. No exemplo C=10, logo uma matriz 10x10 onde na diagonal temos os acertos e nas demais posições as confusões entre as classes do problema. A matriz de confusão é usada para avaliar classificador apenas e muito importante para analisarmos os erros do nosso modelo (ou hipótese de solução para o problema).  \n"
      ]
    },
    {
      "cell_type": "code",
      "execution_count": 20,
      "metadata": {
        "colab": {
          "base_uri": "https://localhost:8080/"
        },
        "id": "_vN1HK85emfw",
        "outputId": "8437a8e2-4049-4e91-902c-f2cae40101e1"
      },
      "outputs": [
        {
          "name": "stdout",
          "output_type": "stream",
          "text": [
            "\n",
            "Cross Validation Results 5 folds:\n",
            "Mean Accuracy: 0.99818\n",
            "Mean Std: 0.00033\n",
            "Precision = 0.998 \n",
            "Recall = 0.998 \n",
            "F1 = 0.998 \n",
            "Primeira instância na base de teste foi considerada como da classe: 0\n",
            "Probabilidade de cada classe para a primeira instância:  [1. 0.]\n",
            "Matriz de Confusão:\n",
            "[[13679    19]\n",
            " [   25 10471]]\n"
          ]
        }
      ],
      "source": [
        "\n",
        "# Mostrando a acurácia média e desvio padrão.\n",
        "print(\"\\nCross Validation Results %d folds:\" % T)\n",
        "print(\"Mean Accuracy: %.5f\" % result.mean())\n",
        "print(\"Mean Std: %.5f\" % result.std())\n",
        "\n",
        "# Calculando a predição para cada exemplo de teste\n",
        "y_pred = model_selection.cross_val_predict(clf, X, y, cv=T)\n",
        "\n",
        "# Calculando para cada instância de teste a probabilidade de cada classe\n",
        "predicted_proba=model_selection.cross_val_predict(clf, X, y, cv=T, method='predict_proba')\n",
        "\n",
        "# Calculando a precisão na base de teste\n",
        "precision=precision_score(y, y_pred, average='weighted')\n",
        "print(\"Precision = %.3f \" % precision)\n",
        "\n",
        "# Calculando a revocação na base de teste\n",
        "recall=recall_score(y, y_pred, average='weighted')\n",
        "print(\"Recall = %.3f \" % recall)\n",
        "\n",
        "# Calculando f1 na base de teste\n",
        "f1=f1_score(y, y_pred, average='weighted')\n",
        "print(\"F1 = %.3f \" % f1)\n",
        "\n",
        "# Exemplo mostrando o resultado previsto para a primeira instância de teste\n",
        "print(\"Primeira instância na base de teste foi considerada como da classe: %d\" % y_pred[0])\n",
        "\n",
        "# Exemplo abaixo mostrando para a primeira instância de teste a probabilidade de cada classe\n",
        "print(\"Probabilidade de cada classe para a primeira instância: \", predicted_proba[0])\n",
        "\n",
        "# Calculando a matriz de confusão\n",
        "print(\"Matriz de Confusão:\")\n",
        "matrix = confusion_matrix(y, y_pred)\n",
        "print(matrix)\n",
        "\n",
        "# salvando o modelo \n",
        "from joblib import dump, load\n",
        "with open(\"Tree.mod\", 'wb') as fo:  \n",
        "    dump(clf, fo)"
      ]
    },
    {
      "cell_type": "markdown",
      "metadata": {
        "id": "lMgRPNIMekfU"
      },
      "source": []
    }
  ],
  "metadata": {
    "colab": {
      "provenance": []
    },
    "kernelspec": {
      "display_name": "Python 3",
      "language": "python",
      "name": "python3"
    },
    "language_info": {
      "codemirror_mode": {
        "name": "ipython",
        "version": 3
      },
      "file_extension": ".py",
      "mimetype": "text/x-python",
      "name": "python",
      "nbconvert_exporter": "python",
      "pygments_lexer": "ipython3",
      "version": "3.12.10"
    }
  },
  "nbformat": 4,
  "nbformat_minor": 0
}
