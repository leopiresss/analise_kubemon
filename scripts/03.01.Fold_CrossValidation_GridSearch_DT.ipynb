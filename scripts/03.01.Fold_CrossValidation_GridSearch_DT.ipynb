{
  "nbformat": 4,
  "nbformat_minor": 0,
  "metadata": {
    "colab": {
      "provenance": []
    },
    "kernelspec": {
      "name": "python3",
      "display_name": "Python 3"
    }
  },
  "cells": [
    {
      "cell_type": "markdown",
      "source": [
        "Neste exemplo treinamos e avaliamos um modelo preditivo usando **T-fold-CrossValidation**, ou Validação Cruzada com T Pastas\n",
        "\n",
        "- técnica de aprendizagem usada: Decision Tree\n",
        "- tarefa supervisionada: classificação de dígitos manuscritos\n",
        "- métricas de avaliação: taxa de acerto, precisão, revocação, f1 e matriz de confusão\n",
        "\n",
        "Importando os recursos necessários:\n",
        "- numpy: biblioteca numérica\n",
        "- sklearn: biblioteca de machine learning, em especial o KNN, as métricas de avaliação e o model_selection que nos permite executar validação cruzada"
      ],
      "metadata": {
        "id": "XxjDrcRJYyA2"
      }
    },
    {
      "cell_type": "code",
      "metadata": {
        "id": "SmS-tOd6u9fO"
      },
      "source": [
        "# Importa bibliotecas necessárias \n",
        "import numpy as np\n",
        "from sklearn.tree import DecisionTreeClassifier\n",
        "from sklearn import model_selection\n",
        "from sklearn.metrics import confusion_matrix, precision_score, recall_score, f1_score\n",
        "from sklearn.datasets import load_digits"
      ],
      "execution_count": 1,
      "outputs": []
    },
    {
      "cell_type": "markdown",
      "source": [
        "Carregando a base de dados do problema, representada aqui por X e y, onde:\n",
        "- X: array contendo N instâncias com M atributos (atributos de entrada do problema)\n",
        "- y: array contendo o rótulo (atributo alvo) de cada instância em X\n"
      ],
      "metadata": {
        "id": "LuQLGeQNWpME"
      }
    },
    {
      "cell_type": "code",
      "source": [
        "# Neste exemplo a base de dados digits é composto por 1.797 instâncias (N=1.797), imagens de tamanho 8x8\n",
        "# e cada instância é representada por um vetor de 64 atributos (M=64), sendo que cada atributo pode ter um valor entre 0 e 16 (valor do pixel)\n",
        "\n",
        "X, y = load_digits(return_X_y=True)\n",
        "print(\"Formato de X: \", X.shape)\n",
        "print(\"Formato de y: \", y.shape)\n",
        "\n"
      ],
      "metadata": {
        "colab": {
          "base_uri": "https://localhost:8080/"
        },
        "id": "ypO-BKeSWlhU",
        "outputId": "d61811ba-1103-4f2e-bd4d-8973b4871e68"
      },
      "execution_count": 2,
      "outputs": [
        {
          "output_type": "stream",
          "name": "stdout",
          "text": [
            "Formato de X:  (1797, 64)\n",
            "Formato de y:  (1797,)\n"
          ]
        }
      ]
    },
    {
      "cell_type": "code",
      "source": [
        "# Usando o GridSearch para buscar os melhores parâmetros para nosso modelo\n",
        "from sklearn.model_selection import train_test_split, GridSearchCV\n",
        "\n",
        "# Separando da base original uma base de validação\n",
        "X, X_val, y, y_val = train_test_split(X,y, test_size=0.2, random_state=42, stratify=y)\n",
        "\n",
        "# Definindo a técnica a ser utilizada\n",
        "clf = DecisionTreeClassifier()\n",
        "\n",
        "# parâmetros que o Gridsearch utilizará em sua busca\n",
        "parameters = [{'criterion':['entropy', 'gini'], 'splitter': ['random', 'best'], 'random_state': [10,42], \n",
        "               'max_depth':[None, 5, 10]}]\n",
        "\n",
        "# Execução do Gridsearch \n",
        "gs=GridSearchCV(clf, parameters, scoring='accuracy', cv=5, n_jobs=-1)\n",
        "gs.fit(X_val, y_val)\n",
        "\n",
        "# Mostrando a tabela de resultados do GridSearch (opcional)\n",
        "from tabulate import tabulate\n",
        "import pandas as pd\n",
        "df=gs.cv_results_\n",
        "print(tabulate(df, headers='keys', tablefmt='psql'))\n",
        "print(\"Melhores parâmetros encontrados: \", gs.best_params_)\n",
        "\n",
        "# Recuperando os melhores resultados\n",
        "clf=gs.best_estimator_\n"
      ],
      "metadata": {
        "colab": {
          "base_uri": "https://localhost:8080/"
        },
        "id": "1y1XJefTgljA",
        "outputId": "dd77575d-d51d-460a-a73e-5e5011590a91"
      },
      "execution_count": 3,
      "outputs": [
        {
          "output_type": "stream",
          "name": "stdout",
          "text": [
            "+-----------------+----------------+-------------------+------------------+-------------------+-------------------+----------------------+------------------+---------------------------------------------------------------------------------------+---------------------+---------------------+---------------------+---------------------+---------------------+-------------------+------------------+-------------------+\n",
            "|   mean_fit_time |   std_fit_time |   mean_score_time |   std_score_time | param_criterion   |   param_max_depth |   param_random_state | param_splitter   | params                                                                                |   split0_test_score |   split1_test_score |   split2_test_score |   split3_test_score |   split4_test_score |   mean_test_score |   std_test_score |   rank_test_score |\n",
            "|-----------------+----------------+-------------------+------------------+-------------------+-------------------+----------------------+------------------+---------------------------------------------------------------------------------------+---------------------+---------------------+---------------------+---------------------+---------------------+-------------------+------------------+-------------------|\n",
            "|      0.00516953 |    0.00155025  |        0.00172276 |      0.000785665 | entropy           |                   |                   10 | random           | {'criterion': 'entropy', 'max_depth': None, 'random_state': 10, 'splitter': 'random'} |            0.722222 |            0.694444 |            0.805556 |            0.638889 |            0.680556 |          0.708333 |        0.0555556 |                15 |\n",
            "|      0.025963   |    0.0121878   |        0.00361938 |      0.00266214  | entropy           |                   |                   10 | best             | {'criterion': 'entropy', 'max_depth': None, 'random_state': 10, 'splitter': 'best'}   |            0.75     |            0.625    |            0.861111 |            0.694444 |            0.861111 |          0.758333 |        0.0927961 |                 3 |\n",
            "|      0.0162525  |    0.00590678  |        0.00716934 |      0.00487183  | entropy           |                   |                   42 | random           | {'criterion': 'entropy', 'max_depth': None, 'random_state': 42, 'splitter': 'random'} |            0.666667 |            0.736111 |            0.708333 |            0.736111 |            0.694444 |          0.708333 |        0.0263523 |                15 |\n",
            "|      0.0388878  |    0.00798283  |        0.00277638 |      0.00141164  | entropy           |                   |                   42 | best             | {'criterion': 'entropy', 'max_depth': None, 'random_state': 42, 'splitter': 'best'}   |            0.708333 |            0.666667 |            0.888889 |            0.722222 |            0.861111 |          0.769444 |        0.088541  |                 1 |\n",
            "|      0.00949311 |    0.0027565   |        0.00208187 |      0.000592449 | entropy           |                 5 |                   10 | random           | {'criterion': 'entropy', 'max_depth': 5, 'random_state': 10, 'splitter': 'random'}    |            0.625    |            0.652778 |            0.680556 |            0.708333 |            0.75     |          0.683333 |        0.0433903 |                20 |\n",
            "|      0.0196982  |    0.00472313  |        0.00283732 |      0.00140656  | entropy           |                 5 |                   10 | best             | {'criterion': 'entropy', 'max_depth': 5, 'random_state': 10, 'splitter': 'best'}      |            0.75     |            0.666667 |            0.847222 |            0.680556 |            0.833333 |          0.755556 |        0.0748455 |                 5 |\n",
            "|      0.0128005  |    0.00375022  |        0.00526991 |      0.00215791  | entropy           |                 5 |                   42 | random           | {'criterion': 'entropy', 'max_depth': 5, 'random_state': 42, 'splitter': 'random'}    |            0.625    |            0.666667 |            0.708333 |            0.694444 |            0.680556 |          0.675    |        0.028599  |                21 |\n",
            "|      0.0180386  |    0.00985665  |        0.00581384 |      0.00706874  | entropy           |                 5 |                   42 | best             | {'criterion': 'entropy', 'max_depth': 5, 'random_state': 42, 'splitter': 'best'}      |            0.708333 |            0.652778 |            0.833333 |            0.680556 |            0.833333 |          0.741667 |        0.0768797 |                 7 |\n",
            "|      0.00395761 |    0.000112759 |        0.00118504 |      9.47338e-05 | entropy           |                10 |                   10 | random           | {'criterion': 'entropy', 'max_depth': 10, 'random_state': 10, 'splitter': 'random'}   |            0.722222 |            0.694444 |            0.805556 |            0.638889 |            0.680556 |          0.708333 |        0.0555556 |                15 |\n",
            "|      0.00871058 |    0.000196236 |        0.001337   |      5.72839e-05 | entropy           |                10 |                   10 | best             | {'criterion': 'entropy', 'max_depth': 10, 'random_state': 10, 'splitter': 'best'}     |            0.75     |            0.625    |            0.861111 |            0.694444 |            0.861111 |          0.758333 |        0.0927961 |                 3 |\n",
            "|      0.00531631 |    0.00113881  |        0.00425291 |      0.00598946  | entropy           |                10 |                   42 | random           | {'criterion': 'entropy', 'max_depth': 10, 'random_state': 42, 'splitter': 'random'}   |            0.666667 |            0.736111 |            0.708333 |            0.736111 |            0.694444 |          0.708333 |        0.0263523 |                15 |\n",
            "|      0.00928936 |    0.000308787 |        0.00134954 |      0.000121107 | entropy           |                10 |                   42 | best             | {'criterion': 'entropy', 'max_depth': 10, 'random_state': 42, 'splitter': 'best'}     |            0.708333 |            0.666667 |            0.888889 |            0.722222 |            0.861111 |          0.769444 |        0.088541  |                 1 |\n",
            "|      0.00504498 |    0.00114536  |        0.00137348 |      0.000361797 | gini              |                   |                   10 | random           | {'criterion': 'gini', 'max_depth': None, 'random_state': 10, 'splitter': 'random'}    |            0.722222 |            0.708333 |            0.75     |            0.75     |            0.708333 |          0.727778 |        0.0188398 |                13 |\n",
            "|      0.0187576  |    0.0143123   |        0.00214992 |      0.00135382  | gini              |                   |                   10 | best             | {'criterion': 'gini', 'max_depth': None, 'random_state': 10, 'splitter': 'best'}      |            0.708333 |            0.75     |            0.791667 |            0.694444 |            0.763889 |          0.741667 |        0.0357892 |                 7 |\n",
            "|      0.00376983 |    0.000220671 |        0.00109835 |      0.000108829 | gini              |                   |                   42 | random           | {'criterion': 'gini', 'max_depth': None, 'random_state': 42, 'splitter': 'random'}    |            0.736111 |            0.736111 |            0.722222 |            0.694444 |            0.777778 |          0.733333 |        0.0269316 |                10 |\n",
            "|      0.00888405 |    0.00297502  |        0.00197206 |      0.00122765  | gini              |                   |                   42 | best             | {'criterion': 'gini', 'max_depth': None, 'random_state': 42, 'splitter': 'best'}      |            0.694444 |            0.694444 |            0.791667 |            0.708333 |            0.736111 |          0.725    |        0.0366414 |                14 |\n",
            "|      0.00361018 |    0.00128071  |        0.00112829 |      0.000138149 | gini              |                 5 |                   10 | random           | {'criterion': 'gini', 'max_depth': 5, 'random_state': 10, 'splitter': 'random'}       |            0.638889 |            0.708333 |            0.694444 |            0.736111 |            0.666667 |          0.688889 |        0.033564  |                19 |\n",
            "|      0.00966187 |    0.00400419  |        0.00246172 |      0.00121217  | gini              |                 5 |                   10 | best             | {'criterion': 'gini', 'max_depth': 5, 'random_state': 10, 'splitter': 'best'}         |            0.680556 |            0.652778 |            0.736111 |            0.680556 |            0.611111 |          0.672222 |        0.0408248 |                23 |\n",
            "|      0.00305128 |    0.000155028 |        0.00103168 |      0.000166622 | gini              |                 5 |                   42 | random           | {'criterion': 'gini', 'max_depth': 5, 'random_state': 42, 'splitter': 'random'}       |            0.652778 |            0.583333 |            0.694444 |            0.625    |            0.680556 |          0.647222 |        0.0398686 |                24 |\n",
            "|      0.00558891 |    0.000340464 |        0.00118551 |      0.000137806 | gini              |                 5 |                   42 | best             | {'criterion': 'gini', 'max_depth': 5, 'random_state': 42, 'splitter': 'best'}         |            0.680556 |            0.611111 |            0.777778 |            0.680556 |            0.625    |          0.675    |        0.0586631 |                21 |\n",
            "|      0.00401883 |    0.000453259 |        0.00124125 |      0.000202115 | gini              |                10 |                   10 | random           | {'criterion': 'gini', 'max_depth': 10, 'random_state': 10, 'splitter': 'random'}      |            0.777778 |            0.708333 |            0.75     |            0.75     |            0.708333 |          0.738889 |        0.0269316 |                 9 |\n",
            "|      0.0106632  |    0.00288998  |        0.00167294 |      0.000236185 | gini              |                10 |                   10 | best             | {'criterion': 'gini', 'max_depth': 10, 'random_state': 10, 'splitter': 'best'}        |            0.708333 |            0.75     |            0.805556 |            0.694444 |            0.791667 |          0.75     |        0.0439205 |                 6 |\n",
            "|      0.00570273 |    0.00203444  |        0.00277152 |      0.00190369  | gini              |                10 |                   42 | random           | {'criterion': 'gini', 'max_depth': 10, 'random_state': 42, 'splitter': 'random'}      |            0.75     |            0.736111 |            0.708333 |            0.694444 |            0.777778 |          0.733333 |        0.0296586 |                10 |\n",
            "|      0.00663738 |    0.00111285  |        0.00115671 |      0.000132682 | gini              |                10 |                   42 | best             | {'criterion': 'gini', 'max_depth': 10, 'random_state': 42, 'splitter': 'best'}        |            0.694444 |            0.694444 |            0.805556 |            0.708333 |            0.763889 |          0.733333 |        0.0442705 |                10 |\n",
            "+-----------------+----------------+-------------------+------------------+-------------------+-------------------+----------------------+------------------+---------------------------------------------------------------------------------------+---------------------+---------------------+---------------------+---------------------+---------------------+-------------------+------------------+-------------------+\n",
            "Melhores parâmetros encontrados:  {'criterion': 'entropy', 'max_depth': None, 'random_state': 42, 'splitter': 'best'}\n"
          ]
        }
      ]
    },
    {
      "cell_type": "markdown",
      "source": [],
      "metadata": {
        "id": "2kaFsbT3plb4"
      }
    },
    {
      "cell_type": "markdown",
      "source": [
        "Neste ponto definimos a técnica de Machine Learning a ser utilizada e treinamos o modelo usando Validação Cruzada. No exemplo, um classificador do tipo àrvode de Decisão. Importante destacar que há no sklearn outros parâmetros do KNN que podemos explorar na busca por um modelo robusto. \n",
        "\n",
        "Observer que, diferente do HOLDOUT, não usamos a função *fit()* e sim *model_selection.cross_val_score()*. Esta função irá treinar T modelos. A cada iteração treina usando T-1 pastas e testa com uma delas. Troca a pasta de teste a cada iteração. Ao final fornece como resultado acurácia média + desvio padrão.\n",
        "\n",
        "OBS: protocolo muito mais robusto que o HOLDOUT, pois cada instância do problema será teste em alguma iteração."
      ],
      "metadata": {
        "id": "GoHd_-t7ddK8"
      }
    },
    {
      "cell_type": "code",
      "source": [
        "\n",
        "# Usando a validação cruzada com 5 folds neste exemplo.\n",
        "T=5 # número de pastas ou folds\n",
        "result = model_selection.cross_val_score(clf, X, y, cv=T)\n"
      ],
      "metadata": {
        "id": "5sGXRIInYuUx"
      },
      "execution_count": 4,
      "outputs": []
    },
    {
      "cell_type": "markdown",
      "source": [
        "Avaliação do modelo abaixo:\n",
        "\n",
        "- A variável *result* que criamos anteriormente já tem a taxa de acerto média e desvio padrão calculadas pela função *model_selection.cross_val_score()*.\n",
        "\n",
        "- A função *model_selection.cross_val_predict()* retorna a classe para cada exemplo de teste.\n",
        "\n",
        "- A função *model_selection.cross_val_predict()* com parâmetro '*method=predict_proba*' retorna a probabilidade de cada classe para cada exemplo de teste.\n",
        "\n",
        "Considerando tp=true positivive, tn=true negative, fp=false positive, fn=false negative.\n",
        "\n",
        "- A função *precision_score()*: calcula tp / (tp + fp)\n",
        "\n",
        "- A função *recall_score()* calcula: tp / (tp + fn)\n",
        "\n",
        "- A função *f1_score()* calcula a média harmônica entre *precision* e *recall*.\n",
        "\n",
        "- A função *confusion_matrix()* recebe como entrada os rótulos do teste (y_test) e a predição do modelo (y_pred). Ela retorna uma matriz CxC onde C é a quandidade de classes. No exemplo C=10, logo uma matriz 10x10 onde na diagonal temos os acertos e nas demais posições as confusões entre as classes do problema. A matriz de confusão é usada para avaliar classificador apenas e muito importante para analisarmos os erros do nosso modelo (ou hipótese de solução para o problema).  \n"
      ],
      "metadata": {
        "id": "mJpnX6Ase_FW"
      }
    },
    {
      "cell_type": "code",
      "source": [
        "\n",
        "# Mostrando a acurácia média e desvio padrão.\n",
        "print(\"\\nCross Validation Results %d folds:\" % T)\n",
        "print(\"Mean Accuracy: %.5f\" % result.mean())\n",
        "print(\"Mean Std: %.5f\" % result.std())\n",
        "\n",
        "# Calculando a predição para cada exemplo de teste\n",
        "y_pred = model_selection.cross_val_predict(clf, X, y, cv=T)\n",
        "\n",
        "# Calculando para cada instância de teste a probabilidade de cada classe\n",
        "predicted_proba=model_selection.cross_val_predict(clf, X, y, cv=T, method='predict_proba')\n",
        "\n",
        "# Calculando a precisão na base de teste\n",
        "precision=precision_score(y, y_pred, average='weighted')\n",
        "print(\"Precision = %.3f \" % precision)\n",
        "\n",
        "# Calculando a revocação na base de teste\n",
        "recall=recall_score(y, y_pred, average='weighted')\n",
        "print(\"Recall = %.3f \" % recall)\n",
        "\n",
        "# Calculando f1 na base de teste\n",
        "f1=f1_score(y, y_pred, average='weighted')\n",
        "print(\"F1 = %.3f \" % f1)\n",
        "\n",
        "# Exemplo mostrando o resultado previsto para a primeira instância de teste\n",
        "print(\"Primeira instância na base de teste foi considerada como da classe: %d\" % y_pred[0])\n",
        "\n",
        "# Exemplo abaixo mostrando para a primeira instância de teste a probabilidade de cada classe\n",
        "print(\"Probabilidade de cada classe para a primeira instância: \", predicted_proba[0])\n",
        "\n",
        "# Calculando a matriz de confusão\n",
        "print(\"Matriz de Confusão:\")\n",
        "matrix = confusion_matrix(y, y_pred)\n",
        "print(matrix)\n",
        "\n",
        "# salvando o modelo \n",
        "from joblib import dump, load\n",
        "with open(\"Tree.mod\", 'wb') as fo:  \n",
        "    dump(clf, fo)"
      ],
      "metadata": {
        "colab": {
          "base_uri": "https://localhost:8080/"
        },
        "id": "_vN1HK85emfw",
        "outputId": "8437a8e2-4049-4e91-902c-f2cae40101e1"
      },
      "execution_count": 5,
      "outputs": [
        {
          "output_type": "stream",
          "name": "stdout",
          "text": [
            "\n",
            "Cross Validation Results 5 folds:\n",
            "Mean Accuracy: 0.86360\n",
            "Mean Std: 0.01733\n",
            "Precision = 0.864 \n",
            "Recall = 0.864 \n",
            "F1 = 0.864 \n",
            "Primeira instância na base de teste foi considerada como da classe: 1\n",
            "Probabilidade de cada classe para a primeira instância:  [0. 1. 0. 0. 0. 0. 0. 0. 0. 0.]\n",
            "Matriz de Confusão:\n",
            "[[135   0   0   0   3   1   1   0   0   2]\n",
            " [  0 125   5   1   1   4   2   2   3   3]\n",
            " [  0   4 124   5   1   1   1   2   4   0]\n",
            " [  0   7   2 121   0   4   3   1   3   5]\n",
            " [  0   5   0   0 129   4   1   2   3   1]\n",
            " [  1   5   1   3   4 119   2   4   2   4]\n",
            " [  0   0   1   0   2   4 135   0   3   0]\n",
            " [  1   4   2   0   5   0   0 125   5   1]\n",
            " [  1   5   2   6   3   0   0   3 110   9]\n",
            " [  5   2   1   5   1   2   2   3   5 118]]\n"
          ]
        }
      ]
    },
    {
      "cell_type": "markdown",
      "source": [],
      "metadata": {
        "id": "lMgRPNIMekfU"
      }
    }
  ]
}